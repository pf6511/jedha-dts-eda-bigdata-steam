{
 "cells": [
  {
   "cell_type": "markdown",
   "metadata": {
    "application/vnd.databricks.v1+cell": {
     "cellMetadata": {
      "byteLimit": 2048000,
      "rowLimit": 10000
     },
     "inputWidgets": {},
     "nuid": "5b494c70-af16-4700-8e8a-5872ffd23c81",
     "showTitle": false,
     "tableResultSettingsMap": {},
     "title": ""
    }
   },
   "source": [
    "# STEAM #"
   ]
  },
  {
   "cell_type": "markdown",
   "metadata": {
    "application/vnd.databricks.v1+cell": {
     "cellMetadata": {
      "byteLimit": 2048000,
      "rowLimit": 10000
     },
     "inputWidgets": {},
     "nuid": "ce37de30-a09f-4b94-b2f6-523353c6cc28",
     "showTitle": false,
     "tableResultSettingsMap": {},
     "title": ""
    }
   },
   "source": [
    "## Goals ##\n",
    "The ultimate goal of this project is to understand what factors affect the popularity or sales of a video game. But your boss asked you to take advantage of this opportunity to analyze the video game market globally.\n",
    "\n",
    "To carry out this project, you will have to adopt different levels of analysis. Your boss gave you a list of examples of questions that would be interesting:"
   ]
  },
  {
   "cell_type": "code",
   "execution_count": 0,
   "metadata": {
    "application/vnd.databricks.v1+cell": {
     "cellMetadata": {
      "byteLimit": 2048000,
      "rowLimit": 10000
     },
     "inputWidgets": {},
     "nuid": "c8b964a5-9341-4502-afd1-69c57eccae0b",
     "showTitle": false,
     "tableResultSettingsMap": {},
     "title": ""
    }
   },
   "outputs": [
    {
     "output_type": "stream",
     "name": "stdout",
     "output_type": "stream",
     "text": [
      "<class 'pyspark.sql.dataframe.DataFrame'>\n"
     ]
    }
   ],
   "source": [
    "FILEPATH = 's3://full-stack-bigdata-datasets/Big_Data/Project_Steam/steam_game_output.json'\n",
    "steam_game_dtf = spark.read.format('json')\\\n",
    "             .option('header', 'true')\\\n",
    "             .option('inferSchema', 'true')\\\n",
    "             .load(FILEPATH)\n",
    "print(type(steam_game_dtf))"
   ]
  },
  {
   "cell_type": "code",
   "execution_count": 0,
   "metadata": {
    "application/vnd.databricks.v1+cell": {
     "cellMetadata": {
      "byteLimit": 2048000,
      "rowLimit": 10000
     },
     "inputWidgets": {},
     "nuid": "c4fc9ab4-9f41-4c4d-844e-3a02da692007",
     "showTitle": false,
     "tableResultSettingsMap": {},
     "title": ""
    }
   },
   "outputs": [],
   "source": [
    "from pyspark.sql import functions as F\n",
    "from pyspark.sql import Row\n",
    "from pyspark.sql.types import *\n",
    "from pyspark.sql.functions import udf\n"
   ]
  },
  {
   "cell_type": "markdown",
   "metadata": {
    "application/vnd.databricks.v1+cell": {
     "cellMetadata": {
      "byteLimit": 2048000,
      "rowLimit": 10000
     },
     "inputWidgets": {},
     "nuid": "53b7218c-0138-4b40-b25f-0e54b536dc41",
     "showTitle": false,
     "tableResultSettingsMap": {},
     "title": ""
    }
   },
   "source": [
    "### Define constants, utility methods ###"
   ]
  },
  {
   "cell_type": "code",
   "execution_count": 0,
   "metadata": {
    "application/vnd.databricks.v1+cell": {
     "cellMetadata": {
      "byteLimit": 2048000,
      "rowLimit": 10000
     },
     "inputWidgets": {},
     "nuid": "bfc28f98-01c7-425e-a27c-c49a88637e80",
     "showTitle": false,
     "tableResultSettingsMap": {},
     "title": ""
    }
   },
   "outputs": [],
   "source": [
    "# Constants\n",
    "DECIMAL_FORMAT_2 = \"%.2f\"\n",
    "def format_2_decimals(number) -> str:\n",
    "    return (DECIMAL_FORMAT_2 % number)\n",
    "\n",
    "def format_2_decimals_column(column) -> str:\n",
    "    return F.format_number(column,2)\n",
    "\n",
    "def is_null(column) -> bool:\n",
    "    return (F.isnan(column) | F.col(column).isNull())\n",
    "\n",
    "def str_length_function(stringColumn) :\n",
    "    return F.length(F.trim(stringColumn))\n",
    "\n",
    "def is_empty_string(stringColumn) -> bool:\n",
    "    return (str_length_function(stringColumn)==0)\n",
    " \n",
    "str_length_udf = udf(str_length_function, IntegerType())"
   ]
  },
  {
   "cell_type": "markdown",
   "metadata": {
    "application/vnd.databricks.v1+cell": {
     "cellMetadata": {
      "byteLimit": 2048000,
      "rowLimit": 10000
     },
     "inputWidgets": {},
     "nuid": "76052e9a-1b4a-40a0-80a4-b925d6ed3996",
     "showTitle": false,
     "tableResultSettingsMap": {},
     "title": ""
    }
   },
   "source": [
    "### Display dataframe's schema ###"
   ]
  },
  {
   "cell_type": "code",
   "execution_count": 0,
   "metadata": {
    "application/vnd.databricks.v1+cell": {
     "cellMetadata": {
      "byteLimit": 2048000,
      "rowLimit": 10000
     },
     "inputWidgets": {},
     "nuid": "8d90ff29-3327-4291-ae8c-463ba36dc2d7",
     "showTitle": false,
     "tableResultSettingsMap": {},
     "title": ""
    }
   },
   "outputs": [],
   "source": [
    "steam_game_dtf.printSchema()"
   ]
  },
  {
   "cell_type": "code",
   "execution_count": 0,
   "metadata": {
    "application/vnd.databricks.v1+cell": {
     "cellMetadata": {
      "byteLimit": 2048000,
      "rowLimit": 10000
     },
     "inputWidgets": {},
     "nuid": "9dd23137-2116-420e-b2d1-bfb4d62aa596",
     "showTitle": false,
     "tableResultSettingsMap": {},
     "title": ""
    }
   },
   "outputs": [
    {
     "output_type": "stream",
     "name": "stdout",
     "output_type": "stream",
     "text": [
      "-RECORD 0---------------------------------\n appid             | 10                   \n categories        | [Multi-player, Va... \n ccu               | 13990                \n developer         | Valve                \n discount          | 0                    \n genre             | Action               \n header_image      | https://cdn.akama... \n initialprice      | 999                  \n languages         | English, French, ... \n name              | Counter-Strike       \n negative          | 5199                 \n owners            | 10,000,000 .. 20,... \n platforms         | {true, true, true}   \n positive          | 201215               \n price             | 999                  \n publisher         | Valve                \n release_date      | 2000/11/1            \n required_age      | 0                    \n short_description | Play the world's ... \n tags              | {266, 1191, null,... \n type              | game                 \n website           |                      \nonly showing top 1 row\n\n"
     ]
    }
   ],
   "source": [
    "#steam_game_dtf.show(2, truncate=False)\n",
    "steam_game_dtf.select(\"data.*\").show(1, vertical=True)\n",
    "\n",
    "#row = steam_game_dtf.first().asDict()\n",
    "#for col, val in row.items():\n",
    "#   print(f\"{col}: {val}\")"
   ]
  },
  {
   "cell_type": "markdown",
   "metadata": {
    "application/vnd.databricks.v1+cell": {
     "cellMetadata": {
      "byteLimit": 2048000,
      "rowLimit": 10000
     },
     "inputWidgets": {},
     "nuid": "d0e55ab5-92d2-4770-9e6e-41685ec1ca37",
     "showTitle": false,
     "tableResultSettingsMap": {},
     "title": ""
    }
   },
   "source": [
    "Nested schema. We can notice that some fields store multiple values in different forms, \n",
    "some are structured as array (for example categories), others are defined as single string with separator between values (genre). \n",
    "Root is divided in two nodes : id (unique id) and data node "
   ]
  },
  {
   "cell_type": "markdown",
   "metadata": {
    "application/vnd.databricks.v1+cell": {
     "cellMetadata": {
      "byteLimit": 2048000,
      "rowLimit": 10000
     },
     "inputWidgets": {},
     "nuid": "d6649533-c396-4c1c-8819-fde2e72080d4",
     "showTitle": false,
     "tableResultSettingsMap": {},
     "title": ""
    }
   },
   "source": [
    "Number of rows"
   ]
  },
  {
   "cell_type": "code",
   "execution_count": 0,
   "metadata": {
    "application/vnd.databricks.v1+cell": {
     "cellMetadata": {
      "byteLimit": 2048000,
      "rowLimit": 10000
     },
     "inputWidgets": {},
     "nuid": "83544694-9dbf-4521-9423-3bb3430f618e",
     "showTitle": false,
     "tableResultSettingsMap": {},
     "title": ""
    }
   },
   "outputs": [
    {
     "output_type": "stream",
     "name": "stdout",
     "output_type": "stream",
     "text": [
      "steam_game_dtf row count :  55691\n"
     ]
    }
   ],
   "source": [
    "row_count = steam_game_dtf.count()\n",
    "print('steam_game_dtf row count : ', row_count)"
   ]
  },
  {
   "cell_type": "markdown",
   "metadata": {
    "application/vnd.databricks.v1+cell": {
     "cellMetadata": {
      "byteLimit": 2048000,
      "rowLimit": 10000
     },
     "inputWidgets": {},
     "nuid": "a7925eea-a056-4772-8bca-a2e2da340a8d",
     "showTitle": false,
     "tableResultSettingsMap": {},
     "title": ""
    }
   },
   "source": [
    "### Explode data Struct (not working since Array is excepted as top-level node) ###"
   ]
  },
  {
   "cell_type": "code",
   "execution_count": 0,
   "metadata": {
    "application/vnd.databricks.v1+cell": {
     "cellMetadata": {
      "byteLimit": 2048000,
      "rowLimit": 10000
     },
     "inputWidgets": {},
     "nuid": "30121e81-8f71-4885-aa88-abe860da6403",
     "showTitle": false,
     "tableResultSettingsMap": {},
     "title": ""
    }
   },
   "outputs": [],
   "source": [
    "\n",
    "#steam_game_data_exploded_dtf = steam_game_dtf.withColumn('data', F.explode('data') )\n",
    "#steam_game_data_exploded_dtf.show(2)"
   ]
  },
  {
   "cell_type": "code",
   "execution_count": 0,
   "metadata": {
    "application/vnd.databricks.v1+cell": {
     "cellMetadata": {
      "byteLimit": 2048000,
      "rowLimit": 10000
     },
     "inputWidgets": {},
     "nuid": "49ec7086-ac81-4da8-8331-093cc9b106ee",
     "showTitle": false,
     "tableResultSettingsMap": {},
     "title": ""
    }
   },
   "outputs": [
    {
     "output_type": "stream",
     "name": "stdout",
     "output_type": "stream",
     "text": [
      "Out[7]: ['appid',\n 'categories',\n 'ccu',\n 'developer',\n 'discount',\n 'genre',\n 'header_image',\n 'initialprice',\n 'languages',\n 'name',\n 'negative',\n 'owners',\n 'platforms',\n 'positive',\n 'price',\n 'publisher',\n 'release_date',\n 'required_age',\n 'short_description',\n 'tags',\n 'type',\n 'website']"
     ]
    }
   ],
   "source": [
    "steam_game_dtf.select(\"data.*\").columns"
   ]
  },
  {
   "cell_type": "markdown",
   "metadata": {
    "application/vnd.databricks.v1+cell": {
     "cellMetadata": {
      "byteLimit": 2048000,
      "rowLimit": 10000
     },
     "inputWidgets": {},
     "nuid": "67b5247b-d2b2-4e76-9059-39bf86fb2352",
     "showTitle": false,
     "tableResultSettingsMap": {},
     "title": ""
    }
   },
   "source": [
    "### Create steam_game_dtf_level0 data frame with single* columns. ###\n",
    "#### * columns that are not Array nor Struct ####\n",
    "#### Remark, some fields contains multiple values as a comma separated Strings (like languages column,...) ####"
   ]
  },
  {
   "cell_type": "code",
   "execution_count": 0,
   "metadata": {
    "application/vnd.databricks.v1+cell": {
     "cellMetadata": {
      "byteLimit": 2048000,
      "rowLimit": 10000
     },
     "inputWidgets": {},
     "nuid": "714f8072-336a-4af0-bf65-3a38e52bf5c4",
     "showTitle": false,
     "tableResultSettingsMap": {},
     "title": ""
    }
   },
   "outputs": [],
   "source": [
    "data_simple_fields = (colname for colname in steam_game_dtf.select(\"data.*\").columns if colname not in ('categories','platforms', 'tags'))\n",
    "steam_game_dtf_level0 = steam_game_dtf.select(\n",
    "    'id',\n",
    "    *(F.col(f\"data.{s}\").alias(s) for s in data_simple_fields)\n",
    ").alias('data').select('data.*') \n"
   ]
  },
  {
   "cell_type": "markdown",
   "metadata": {
    "application/vnd.databricks.v1+cell": {
     "cellMetadata": {
      "byteLimit": 2048000,
      "rowLimit": 10000
     },
     "inputWidgets": {},
     "nuid": "9f716d01-adac-4e2b-866e-7388c2c990a8",
     "showTitle": false,
     "tableResultSettingsMap": {},
     "title": ""
    }
   },
   "source": [
    "##### Compute null values count for each column (for steam_game_dtf_level0) #####"
   ]
  },
  {
   "cell_type": "code",
   "execution_count": 0,
   "metadata": {
    "application/vnd.databricks.v1+cell": {
     "cellMetadata": {
      "byteLimit": 2048000,
      "rowLimit": 10000
     },
     "inputWidgets": {},
     "nuid": "dd001dd5-53be-445f-b25b-c23f340c400d",
     "showTitle": false,
     "tableResultSettingsMap": {},
     "title": ""
    }
   },
   "outputs": [
    {
     "output_type": "stream",
     "name": "stdout",
     "output_type": "stream",
     "text": [
      "-RECORD 0----------------\n id                | 0   \n appid             | 0   \n ccu               | 0   \n developer         | 0   \n discount          | 0   \n genre             | 0   \n header_image      | 0   \n initialprice      | 0   \n languages         | 0   \n name              | 0   \n negative          | 0   \n owners            | 0   \n positive          | 0   \n price             | 0   \n publisher         | 0   \n release_date      | 0   \n required_age      | 0   \n short_description | 0   \n type              | 0   \n website           | 0   \n\n"
     ]
    }
   ],
   "source": [
    "steam_game_dtf_level0.select([F.count(F.when(F.isnan(c) | F.col(c).isNull(), c)).alias(c) for c in steam_game_dtf_level0.columns]\n",
    "   ).show(vertical=True)"
   ]
  },
  {
   "cell_type": "markdown",
   "metadata": {
    "application/vnd.databricks.v1+cell": {
     "cellMetadata": {
      "byteLimit": 2048000,
      "rowLimit": 10000
     },
     "inputWidgets": {},
     "nuid": "ca04d37a-ed37-4e0c-a14f-ca43d008b7f1",
     "showTitle": false,
     "tableResultSettingsMap": {},
     "title": ""
    }
   },
   "source": [
    "##### Compute empty string count for each string column #####"
   ]
  },
  {
   "cell_type": "code",
   "execution_count": 0,
   "metadata": {
    "application/vnd.databricks.v1+cell": {
     "cellMetadata": {
      "byteLimit": 2048000,
      "rowLimit": 10000
     },
     "inputWidgets": {},
     "nuid": "70a64ae4-09c0-4293-bae2-b191a6303be9",
     "showTitle": false,
     "tableResultSettingsMap": {},
     "title": ""
    }
   },
   "outputs": [
    {
     "output_type": "stream",
     "name": "stdout",
     "output_type": "stream",
     "text": [
      "Out[10]: [('id', 'string'),\n ('appid', 'bigint'),\n ('ccu', 'bigint'),\n ('developer', 'string'),\n ('discount', 'string'),\n ('genre', 'string'),\n ('header_image', 'string'),\n ('initialprice', 'string'),\n ('languages', 'string'),\n ('name', 'string'),\n ('negative', 'bigint'),\n ('owners', 'string'),\n ('positive', 'bigint'),\n ('price', 'string'),\n ('publisher', 'string'),\n ('release_date', 'string'),\n ('required_age', 'string'),\n ('short_description', 'string'),\n ('type', 'string'),\n ('website', 'string')]"
     ]
    }
   ],
   "source": [
    "steam_game_dtf_level0.dtypes"
   ]
  },
  {
   "cell_type": "code",
   "execution_count": 0,
   "metadata": {
    "application/vnd.databricks.v1+cell": {
     "cellMetadata": {
      "byteLimit": 2048000,
      "rowLimit": 10000
     },
     "inputWidgets": {},
     "nuid": "a867115e-2101-4260-a1a0-e690de2f3b9c",
     "showTitle": false,
     "tableResultSettingsMap": {},
     "title": ""
    }
   },
   "outputs": [
    {
     "output_type": "stream",
     "name": "stdout",
     "output_type": "stream",
     "text": [
      "-RECORD 0------------------\n id                | 0     \n developer         | 127   \n discount          | 0     \n genre             | 161   \n header_image      | 0     \n initialprice      | 0     \n languages         | 11    \n name              | 0     \n owners            | 0     \n price             | 0     \n publisher         | 134   \n release_date      | 99    \n required_age      | 0     \n short_description | 37    \n type              | 0     \n website           | 25217 \n\n"
     ]
    }
   ],
   "source": [
    "steam_game_dtf_level0.select([F.count(F.when(is_empty_string(F.col(string_col)), string_col)).alias(string_col)\\\n",
    "            for string_col in (dtype[0] for dtype in steam_game_dtf_level0.dtypes if dtype[1]=='string') ]).show(vertical=True)"
   ]
  },
  {
   "cell_type": "markdown",
   "metadata": {
    "application/vnd.databricks.v1+cell": {
     "cellMetadata": {},
     "inputWidgets": {},
     "nuid": "2f8ca373-d864-45c2-bee4-055b7303f33f",
     "showTitle": false,
     "tableResultSettingsMap": {},
     "title": ""
    }
   },
   "source": [
    "### I choose to remove rows with any of the fields used downstream with empty strings ###"
   ]
  },
  {
   "cell_type": "code",
   "execution_count": 0,
   "metadata": {
    "application/vnd.databricks.v1+cell": {
     "cellMetadata": {
      "byteLimit": 2048000,
      "rowLimit": 10000
     },
     "inputWidgets": {},
     "nuid": "ca0fee36-42a3-47d6-8109-506c498c3752",
     "showTitle": false,
     "tableResultSettingsMap": {},
     "title": ""
    }
   },
   "outputs": [],
   "source": [
    "steam_game_dtf_level0 = steam_game_dtf_level0.filter(~(is_empty_string('genre') | is_empty_string('publisher') | is_empty_string('languages') | is_empty_string('release_date')))"
   ]
  },
  {
   "cell_type": "code",
   "execution_count": 0,
   "metadata": {
    "application/vnd.databricks.v1+cell": {
     "cellMetadata": {
      "byteLimit": 2048000,
      "rowLimit": 10000
     },
     "inputWidgets": {},
     "nuid": "06672d6e-b83b-472b-ae28-2a4932825da3",
     "showTitle": false,
     "tableResultSettingsMap": {},
     "title": ""
    }
   },
   "outputs": [
    {
     "output_type": "stream",
     "name": "stdout",
     "output_type": "stream",
     "text": [
      "steam_game_dtf_level0 row count after removing empty strings:  55310\n"
     ]
    }
   ],
   "source": [
    "row_count = steam_game_dtf_level0.count()\n",
    "print('steam_game_dtf_level0 row count after removing empty strings: ', row_count)"
   ]
  },
  {
   "cell_type": "markdown",
   "metadata": {
    "application/vnd.databricks.v1+cell": {
     "cellMetadata": {
      "byteLimit": 2048000,
      "rowLimit": 10000
     },
     "inputWidgets": {},
     "nuid": "4f262e24-5dcd-4746-be82-03d214e7b95d",
     "showTitle": false,
     "tableResultSettingsMap": {},
     "title": ""
    }
   },
   "source": [
    "#### Change data types of columns holding prices ####"
   ]
  },
  {
   "cell_type": "code",
   "execution_count": 0,
   "metadata": {
    "application/vnd.databricks.v1+cell": {
     "cellMetadata": {
      "byteLimit": 2048000,
      "rowLimit": 10000
     },
     "inputWidgets": {},
     "nuid": "7c650e3a-d49b-4bd5-b899-f9dd57893383",
     "showTitle": false,
     "tableResultSettingsMap": {},
     "title": ""
    }
   },
   "outputs": [
    {
     "output_type": "stream",
     "name": "stdout",
     "output_type": "stream",
     "text": [
      "-RECORD 0---------------------------------\n id                | 10                   \n appid             | 10                   \n ccu               | 13990                \n developer         | Valve                \n discount          | 0                    \n genre             | Action               \n header_image      | https://cdn.akama... \n initialprice      | 999                  \n languages         | English, French, ... \n name              | Counter-Strike       \n negative          | 5199                 \n owners            | 10,000,000 .. 20,... \n positive          | 201215               \n price             | 999                  \n publisher         | Valve                \n release_date      | 2000/11/1            \n required_age      | 0                    \n short_description | Play the world's ... \n type              | game                 \n website           |                      \n-RECORD 1---------------------------------\n id                | 1000000              \n appid             | 1000000              \n ccu               | 0                    \n developer         | IndigoBlue Game S... \n discount          | 0                    \n genre             | Action, Adventure... \n header_image      | https://cdn.akama... \n initialprice      | 999                  \n languages         | English, Korean, ... \n name              | ASCENXION            \n negative          | 5                    \n owners            | 0 .. 20,000          \n positive          | 27                   \n price             | 999                  \n publisher         | PsychoFlux Entert... \n release_date      | 2021/05/14           \n required_age      | 0                    \n short_description | ASCENXION is a 2D... \n type              | game                 \n website           |                      \n\n"
     ]
    }
   ],
   "source": [
    "steam_game_dtf_level0 = steam_game_dtf_level0.withColumn('price', F.col('price').cast(IntegerType()))\\\n",
    "    .withColumn('initialprice', F.col('initialprice').cast(IntegerType()))\\\n",
    "    .withColumn('discount', F.col('discount').cast(IntegerType()))\n",
    "# Display row sample\n",
    "steam_game_dtf_level0.select('*').limit(2).show(vertical=True)"
   ]
  },
  {
   "cell_type": "markdown",
   "metadata": {
    "application/vnd.databricks.v1+cell": {
     "cellMetadata": {
      "byteLimit": 2048000,
      "rowLimit": 10000
     },
     "inputWidgets": {},
     "nuid": "4f629c5c-9da7-487d-aece-a7721e62787d",
     "showTitle": false,
     "tableResultSettingsMap": {},
     "title": ""
    }
   },
   "source": [
    "#### Compute owners_min, owners_max columns (for later use) ####"
   ]
  },
  {
   "cell_type": "code",
   "execution_count": 0,
   "metadata": {
    "application/vnd.databricks.v1+cell": {
     "cellMetadata": {
      "byteLimit": 2048000,
      "rowLimit": 10000
     },
     "inputWidgets": {},
     "nuid": "285e7086-5b9d-44b5-9599-b1ab70582ed9",
     "showTitle": false,
     "tableResultSettingsMap": {},
     "title": ""
    }
   },
   "outputs": [
    {
     "output_type": "stream",
     "name": "stdout",
     "output_type": "stream",
     "text": [
      "+------------------+---------+\n|test_owners_length|count(id)|\n+------------------+---------+\n|                 2|    55310|\n+------------------+---------+\n\n"
     ]
    }
   ],
   "source": [
    "# Test\n",
    "steam_game_dtf_level0.withColumn('test_owners_length', F.size(F.expr(\"transform(split(owners,r'\\.\\.'),x -> trim(x))\")))\\\n",
    "    .groupBy('test_owners_length').agg(F.count('id')).show()\n",
    "\n",
    "# "
   ]
  },
  {
   "cell_type": "code",
   "execution_count": 0,
   "metadata": {
    "application/vnd.databricks.v1+cell": {
     "cellMetadata": {
      "byteLimit": 2048000,
      "rowLimit": 10000
     },
     "inputWidgets": {},
     "nuid": "5142088a-221d-4df7-93a7-b51731f3511f",
     "showTitle": false,
     "tableResultSettingsMap": {},
     "title": ""
    }
   },
   "outputs": [
    {
     "output_type": "stream",
     "name": "stdout",
     "output_type": "stream",
     "text": [
      "+----------+----------+----------+\n|owners_min|owners_max|avg_owners|\n+----------+----------+----------+\n|  10000000|  20000000|  15000000|\n|         0|     20000|     10000|\n|    200000|    500000|    350000|\n|    100000|    200000|    150000|\n|         0|     20000|     10000|\n|    100000|    200000|    150000|\n|         0|     20000|     10000|\n|     20000|     50000|     35000|\n|         0|     20000|     10000|\n|         0|     20000|     10000|\n+----------+----------+----------+\n\n"
     ]
    }
   ],
   "source": [
    "steam_game_dtf_level0 = steam_game_dtf_level0.withColumn('owners_min_max', F.expr(\"transform(split(owners,r'\\.\\.'),x -> trim(x))\"))\\\n",
    "    .withColumn('owners_min', F.regexp_replace(F.col('owners_min_max')[0],\",\",\"\").cast(IntegerType()))\\\n",
    "    .withColumn('owners_max', F.regexp_replace(F.col('owners_min_max')[1],\",\",\"\").cast(IntegerType()))\\\n",
    "    .withColumn('avg_owners', ((F.col('owners_max')+F.col('owners_min'))/2).cast(IntegerType()))\\\n",
    "        .drop(F.col('owners'), F.col('owners_min_max'))\n",
    "    # Check\n",
    "steam_game_dtf_level0.select('owners_min', 'owners_max','avg_owners').limit(10).show()\n",
    "\n",
    "# or use steam_game_dtf_level0 = steam_game_dtf_level0.withColumn( 'owners_min_max',F.transform(F.split('owners', r'\\.\\.'), lambda x: F.trim(x)))"
   ]
  },
  {
   "cell_type": "markdown",
   "metadata": {
    "application/vnd.databricks.v1+cell": {
     "cellMetadata": {
      "byteLimit": 2048000,
      "rowLimit": 10000
     },
     "inputWidgets": {},
     "nuid": "85639125-832c-4d91-b81f-c392db717518",
     "showTitle": false,
     "tableResultSettingsMap": {},
     "title": ""
    }
   },
   "source": [
    "#### Compute average income (for later use) ####"
   ]
  },
  {
   "cell_type": "markdown",
   "metadata": {
    "application/vnd.databricks.v1+cell": {
     "cellMetadata": {
      "byteLimit": 2048000,
      "rowLimit": 10000
     },
     "inputWidgets": {},
     "nuid": "32eb3a66-1921-43c1-b428-115b251c3dc1",
     "showTitle": false,
     "tableResultSettingsMap": {},
     "title": ""
    }
   },
   "source": [
    "For each row/game : average_income = (price-discount) * (mean(owners_min,owners_max)). Will be used later in genre analysis. "
   ]
  },
  {
   "cell_type": "code",
   "execution_count": 0,
   "metadata": {
    "application/vnd.databricks.v1+cell": {
     "cellMetadata": {
      "byteLimit": 2048000,
      "rowLimit": 10000
     },
     "inputWidgets": {},
     "nuid": "f2f1e20e-ee2e-4954-be92-f6ddebe0d709",
     "showTitle": false,
     "tableResultSettingsMap": {},
     "title": ""
    }
   },
   "outputs": [
    {
     "output_type": "stream",
     "name": "stdout",
     "output_type": "stream",
     "text": [
      "+--------------+-----+--------+----------+----------+--------------+\n|          name|price|discount|owners_min|owners_max|average_income|\n+--------------+-----+--------+----------+----------+--------------+\n|Counter-Strike|  999|       0|  10000000|  20000000|  7.00032704E8|\n|     ASCENXION|  999|       0|         0|     20000|     9990000.0|\n+--------------+-----+--------+----------+----------+--------------+\n\n"
     ]
    }
   ],
   "source": [
    "steam_game_dtf_level0 = steam_game_dtf_level0.withColumn('average_income', ((F.col('price')-F.col('discount'))*(F.col('owners_max')-F.col('owners_min'))/2))\n",
    "steam_game_dtf_level0.select('name', 'price', 'discount', 'owners_min', 'owners_max', 'average_income').limit(2).show()\n"
   ]
  },
  {
   "cell_type": "markdown",
   "metadata": {
    "application/vnd.databricks.v1+cell": {
     "cellMetadata": {},
     "inputWidgets": {},
     "nuid": "02fc2309-2c50-4eb6-a991-92b6c49b3f9c",
     "showTitle": false,
     "tableResultSettingsMap": {},
     "title": ""
    }
   },
   "source": [
    "## Analysis at the \"macro\" level ##"
   ]
  },
  {
   "cell_type": "markdown",
   "metadata": {
    "application/vnd.databricks.v1+cell": {
     "cellMetadata": {
      "byteLimit": 2048000,
      "rowLimit": 10000
     },
     "inputWidgets": {},
     "nuid": "e4d83af3-155e-4f11-9e28-6ac20dbda833",
     "showTitle": false,
     "tableResultSettingsMap": {},
     "title": ""
    }
   },
   "source": [
    "### What are the best-selling games ? ###"
   ]
  },
  {
   "cell_type": "code",
   "execution_count": 0,
   "metadata": {
    "application/vnd.databricks.v1+cell": {
     "cellMetadata": {
      "byteLimit": 2048000,
      "rowLimit": 10000
     },
     "inputWidgets": {},
     "nuid": "01eaaab8-9a6d-4f37-9a3f-0559ad4f412f",
     "showTitle": false,
     "tableResultSettingsMap": {},
     "title": ""
    }
   },
   "outputs": [
    {
     "output_type": "stream",
     "name": "stdout",
     "output_type": "stream",
     "text": [
      "+-------+--------------------+----------+--------------------+\n|     id|                name|avg_owners|               genre|\n+-------+--------------------+----------+--------------------+\n|    570|              Dota 2| 350000000|Action, Free to P...|\n|1063730|           New World|  75000000|Action, Adventure...|\n|    440|     Team Fortress 2|  75000000|Action, Free to Play|\n| 578080| PUBG: BATTLEGROUNDS|  75000000|Action, Adventure...|\n|    730|Counter-Strike: G...|  75000000|Action, Free to Play|\n| 105600|            Terraria|  35000000|Action, Adventure...|\n|1085660|           Destiny 2|  35000000|Action, Adventure...|\n|1097150|Fall Guys: Ultima...|  35000000|Action, Casual, I...|\n|1172470|        Apex Legends|  35000000|Action, Adventure...|\n| 236390|         War Thunder|  35000000|Action, Free to P...|\n+-------+--------------------+----------+--------------------+\n\n"
     ]
    }
   ],
   "source": [
    "steam_game_dtf_level0.select('id','name', 'avg_owners', 'genre').orderBy(F.desc('avg_owners')).limit(10).show()"
   ]
  },
  {
   "cell_type": "markdown",
   "metadata": {
    "application/vnd.databricks.v1+cell": {
     "cellMetadata": {
      "byteLimit": 2048000,
      "rowLimit": 10000
     },
     "inputWidgets": {},
     "nuid": "ad14ba85-b1d0-49dd-888c-b5ccc3ea8b22",
     "showTitle": false,
     "tableResultSettingsMap": {},
     "title": ""
    }
   },
   "source": [
    "### Which publisher has released the most games on Steam ?"
   ]
  },
  {
   "cell_type": "markdown",
   "metadata": {
    "application/vnd.databricks.v1+cell": {
     "cellMetadata": {
      "byteLimit": 2048000,
      "rowLimit": 10000
     },
     "inputWidgets": {},
     "nuid": "6ed2706a-b21e-4a16-b957-f44d36081f70",
     "showTitle": false,
     "tableResultSettingsMap": {},
     "title": ""
    }
   },
   "source": [
    "##### Top 10 publisher in term of number of games (Ubisoft belongs to top 10) #####"
   ]
  },
  {
   "cell_type": "code",
   "execution_count": 0,
   "metadata": {
    "application/vnd.databricks.v1+cell": {
     "cellMetadata": {
      "byteLimit": 2048000,
      "rowLimit": 10000
     },
     "inputWidgets": {},
     "nuid": "b7e7853c-afc4-408b-8c2e-91031fc75a11",
     "showTitle": false,
     "tableResultSettingsMap": {},
     "title": ""
    }
   },
   "outputs": [
    {
     "output_type": "display_data",
     "data": {
      "text/html": [
       "<style scoped>\n",
       "  .table-result-container {\n",
       "    max-height: 300px;\n",
       "    overflow: auto;\n",
       "  }\n",
       "  table, th, td {\n",
       "    border: 1px solid black;\n",
       "    border-collapse: collapse;\n",
       "  }\n",
       "  th, td {\n",
       "    padding: 5px;\n",
       "  }\n",
       "  th {\n",
       "    text-align: left;\n",
       "  }\n",
       "</style><div class='table-result-container'><table class='table-result'><thead style='background-color: white'><tr><th>publisher</th><th>nb_games</th></tr></thead><tbody><tr><td>Big Fish Games</td><td>421</td></tr><tr><td>8floor</td><td>202</td></tr><tr><td>Strategy First</td><td>151</td></tr><tr><td>SEGA</td><td>142</td></tr><tr><td>Square Enix</td><td>139</td></tr><tr><td>Choice of Games</td><td>139</td></tr><tr><td>Sekai Project</td><td>132</td></tr><tr><td>HH-Games</td><td>132</td></tr><tr><td>Ubisoft</td><td>126</td></tr><tr><td>Laush Studio</td><td>126</td></tr></tbody></table></div>"
      ]
     },
     "metadata": {
      "application/vnd.databricks.v1+output": {
       "addedWidgets": {},
       "aggData": [],
       "aggError": "",
       "aggOverflow": false,
       "aggSchema": [],
       "aggSeriesLimitReached": false,
       "aggType": "",
       "arguments": {},
       "columnCustomDisplayInfos": {},
       "data": [
        [
         "Big Fish Games",
         421
        ],
        [
         "8floor",
         202
        ],
        [
         "Strategy First",
         151
        ],
        [
         "SEGA",
         142
        ],
        [
         "Square Enix",
         139
        ],
        [
         "Choice of Games",
         139
        ],
        [
         "Sekai Project",
         132
        ],
        [
         "HH-Games",
         132
        ],
        [
         "Ubisoft",
         126
        ],
        [
         "Laush Studio",
         126
        ]
       ],
       "datasetInfos": [],
       "dbfsResultPath": null,
       "isJsonSchema": true,
       "metadata": {},
       "overflow": false,
       "plotOptions": {
        "customPlotOptions": {},
        "displayType": "table",
        "pivotAggregation": null,
        "pivotColumns": null,
        "xColumns": null,
        "yColumns": null
       },
       "removedWidgets": [],
       "schema": [
        {
         "metadata": "{}",
         "name": "publisher",
         "type": "\"string\""
        },
        {
         "metadata": "{}",
         "name": "nb_games",
         "type": "\"long\""
        }
       ],
       "type": "table"
      }
     },
     "output_type": "display_data"
    },
    {
     "output_type": "display_data",
     "data": {
      "text/plain": [
       "Databricks visualization. Run in Databricks to view."
      ]
     },
     "metadata": {
      "application/vnd.databricks.v1.subcommand+json": {
       "baseErrorDetails": null,
       "bindings": {},
       "collapsed": false,
       "command": "%python\n__backend_agg_display_orig = display\n__backend_agg_dfs = []\ndef __backend_agg_display_new(df):\n    __backend_agg_df_modules = [\"pandas.core.frame\", \"databricks.koalas.frame\", \"pyspark.sql.dataframe\", \"pyspark.pandas.frame\", \"pyspark.sql.connect.dataframe\"]\n    if (type(df).__module__ in __backend_agg_df_modules and type(df).__name__ == 'DataFrame') or isinstance(df, list):\n        __backend_agg_dfs.append(df)\n\ndisplay = __backend_agg_display_new\n\ndef __backend_agg_user_code_fn():\n    import base64\n    exec(base64.standard_b64decode(\"ZGZfdG9wX3B1Ymxpc2hlcnMgPSBkZjEuZ3JvdXBCeShGLmNvbCgncHVibGlzaGVyJykpLmFnZyhGLmNvdW50KCduYW1lJykuYWxpYXMoJ25iX2dhbWVzJykpLm9yZGVyQnkoRi5kZXNjKCduYl9nYW1lcycpKS5saW1pdCgxMCkKZGlzcGxheShkZl90b3BfcHVibGlzaGVycyk=\").decode())\n\ntry:\n    # run user code\n    __backend_agg_user_code_fn()\n\n    #reset display function\n    display = __backend_agg_display_orig\n\n    if len(__backend_agg_dfs) > 0:\n        # create a temp view\n        if type(__backend_agg_dfs[0]).__module__ == \"databricks.koalas.frame\":\n            # koalas dataframe\n            __backend_agg_dfs[0].to_spark().createOrReplaceTempView(\"DatabricksView93041a6\")\n        elif type(__backend_agg_dfs[0]).__module__ == \"pandas.core.frame\" or isinstance(__backend_agg_dfs[0], list):\n            # pandas dataframe\n            spark.createDataFrame(__backend_agg_dfs[0]).createOrReplaceTempView(\"DatabricksView93041a6\")\n        else:\n            __backend_agg_dfs[0].createOrReplaceTempView(\"DatabricksView93041a6\")\n        #run backend agg\n        display(spark.sql(\"\"\"WITH q AS (select * from DatabricksView93041a6) SELECT `publisher`,SUM(`nb_games`) `column_dacfc151416` FROM q GROUP BY `publisher`\"\"\"))\n    else:\n        displayHTML(\"dataframe no longer exists. If you're using dataframe.display(), use display(dataframe) instead.\")\n\n\nfinally:\n    spark.sql(\"drop view if exists DatabricksView93041a6\")\n    display = __backend_agg_display_orig\n    del __backend_agg_display_new\n    del __backend_agg_display_orig\n    del __backend_agg_dfs\n    del __backend_agg_user_code_fn\n\n",
       "commandTitle": "Visualization 1",
       "commandType": "auto",
       "commandVersion": 0,
       "commentThread": [],
       "commentsVisible": false,
       "contentSha256Hex": null,
       "customPlotOptions": {
        "redashChart": [
         {
          "key": "type",
          "value": "CHART"
         },
         {
          "key": "options",
          "value": {
           "alignYAxesAtZero": true,
           "coefficient": 1,
           "columnConfigurationMap": {
            "x": {
             "column": "publisher",
             "id": "column_dacfc151415"
            },
            "y": [
             {
              "column": "nb_games",
              "id": "column_dacfc151416",
              "transform": "SUM"
             }
            ]
           },
           "dateTimeFormat": "DD/MM/YYYY HH:mm",
           "direction": {
            "type": "counterclockwise"
           },
           "error_y": {
            "type": "data",
            "visible": true
           },
           "globalSeriesType": "column",
           "isAggregationOn": true,
           "legend": {
            "traceorder": "normal"
           },
           "missingValuesAsZero": true,
           "numberFormat": "0,0.[00000]",
           "percentFormat": "0[.]00%",
           "reverseX": false,
           "series": {
            "error_y": {
             "type": "data",
             "visible": true
            },
            "percentValues": false,
            "stacking": null
           },
           "seriesOptions": {
            "column_dacfc151416": {
             "color": "#919191",
             "name": "nb_games",
             "yAxis": 0
            }
           },
           "showDataLabels": false,
           "sizemode": "diameter",
           "sortX": false,
           "sortY": true,
           "swappedAxes": true,
           "textFormat": "",
           "useAggregationsUi": true,
           "valuesOptions": {},
           "version": 2,
           "xAxis": {
            "labels": {
             "enabled": true
            },
            "title": {
             "text": "publisher"
            },
            "type": "-"
           },
           "yAxis": [
            {
             "type": "-"
            },
            {
             "opposite": true,
             "type": "-"
            }
           ]
          }
         }
        ]
       },
       "datasetPreviewNameToCmdIdMap": {},
       "diffDeletes": [],
       "diffInserts": [],
       "displayType": "redashChart",
       "error": null,
       "errorDetails": null,
       "errorSummary": null,
       "errorTraceType": null,
       "finishTime": 0,
       "globalVars": {},
       "guid": "",
       "height": "auto",
       "hideCommandCode": false,
       "hideCommandResult": false,
       "iPythonMetadata": null,
       "inputWidgets": {},
       "isLockedInExamMode": false,
       "latestAssumeRoleInfo": null,
       "latestUser": "a user",
       "latestUserId": null,
       "listResultMetadata": null,
       "metadata": {},
       "nuid": "aacd86f3-4adf-48a4-8f6d-aa410843d8c5",
       "origId": 0,
       "parentHierarchy": [],
       "pivotAggregation": null,
       "pivotColumns": null,
       "position": 12.0,
       "resultDbfsErrorMessage": null,
       "resultDbfsStatus": "INLINED_IN_TREE",
       "results": null,
       "showCommandTitle": false,
       "startTime": 0,
       "state": "input",
       "streamStates": {},
       "subcommandOptions": {
        "queryPlan": {
         "groups": [
          {
           "column": "publisher",
           "type": "column"
          }
         ],
         "selects": [
          {
           "column": "publisher",
           "type": "column"
          },
          {
           "alias": "column_dacfc151416",
           "args": [
            {
             "column": "nb_games",
             "type": "column"
            }
           ],
           "function": "SUM",
           "type": "function"
          }
         ]
        }
       },
       "submitTime": 0,
       "subtype": "tableResultSubCmd.visualization",
       "tableResultIndex": 0,
       "tableResultSettingsMap": {},
       "useConsistentColors": false,
       "version": "CommandV1",
       "width": "auto",
       "workflows": [],
       "xColumns": null,
       "yColumns": null
      }
     },
     "output_type": "display_data"
    }
   ],
   "source": [
    "df_top_publishers = steam_game_dtf_level0.groupBy(F.col('publisher')).agg(F.count('name').alias('nb_games'))\\\n",
    ".orderBy(F.desc('nb_games')).limit(10)\n",
    "display(df_top_publishers)"
   ]
  },
  {
   "cell_type": "markdown",
   "metadata": {
    "application/vnd.databricks.v1+cell": {
     "cellMetadata": {
      "byteLimit": 2048000,
      "rowLimit": 10000
     },
     "inputWidgets": {},
     "nuid": "eb20f17e-0639-4398-8f82-9aa8c3fd7b6d",
     "showTitle": false,
     "tableResultSettingsMap": {},
     "title": ""
    }
   },
   "source": [
    "### What are the best rated games?"
   ]
  },
  {
   "cell_type": "markdown",
   "metadata": {
    "application/vnd.databricks.v1+cell": {
     "cellMetadata": {
      "byteLimit": 2048000,
      "rowLimit": 10000
     },
     "inputWidgets": {},
     "nuid": "229c8b9f-0f22-429f-bc3c-2032748bdbf7",
     "showTitle": false,
     "tableResultSettingsMap": {},
     "title": ""
    }
   },
   "source": [
    "##### We suppose ratings are given by \"positive\" and \"negative\" columns where \"positive\" gives the number of positive notifications #####\n",
    "##### We define positive_rate column as positive/(negative+positive) when positive + negative  > 0 #####"
   ]
  },
  {
   "cell_type": "code",
   "execution_count": 0,
   "metadata": {
    "application/vnd.databricks.v1+cell": {
     "cellMetadata": {
      "byteLimit": 2048000,
      "rowLimit": 10000
     },
     "inputWidgets": {},
     "nuid": "e94a5883-2a14-4594-bf88-96467f22d6a9",
     "showTitle": false,
     "tableResultSettingsMap": {},
     "title": ""
    }
   },
   "outputs": [
    {
     "output_type": "stream",
     "name": "stdout",
     "output_type": "stream",
     "text": [
      "+--------------------+----------+-------------+--------+--------+--------------------+\n|                name|avg_owners|positive_rate|positive|negative|               genre|\n+--------------------+----------+-------------+--------+--------+--------------------+\n|         Next Stop 3|     10000|          1.0|      17|       0|Casual, Simulatio...|\n|Kooring VR Wonder...|     10000|          1.0|      12|       0|Action, Adventure...|\n|            Diamonds|     10000|          1.0|       4|       0|       Action, Indie|\n|               GUIDE|     10000|          1.0|       2|       0|               Indie|\n|Fist Of Heaven & ...|     10000|          1.0|       7|       0|Action, Adventure...|\n|            Grab Lab|     10000|          1.0|       9|       0|Action, Casual, I...|\n|Zero spring episo...|     10000|          1.0|       1|       0|Adventure, Indie,...|\n|      Twisting Mower|     10000|          1.0|       1|       0|Casual, Indie, Ra...|\n|   The Demon Crystal|     10000|          1.0|      11|       0|Action, Adventure...|\n|       Cube Defender|     10000|          1.0|       6|       0|       Casual, Indie|\n+--------------------+----------+-------------+--------+--------+--------------------+\n\n"
     ]
    }
   ],
   "source": [
    "\n",
    "steam_game_dtf_level0 = steam_game_dtf_level0.withColumn('positive_rate', F.when((F.col('negative') + F.col('positive')) > 0\\\n",
    "                                             , F.col('positive')/(F.col('negative') + F.col('positive'))).otherwise(F.lit(0.0)))\n",
    "\n",
    "# top_10_best_rated_games = \n",
    "steam_game_dtf_level0.select(F.col('name'), F.col('avg_owners'),F.col('positive_rate'), F.col('positive'), F.col('negative'), F.col('genre'))\\\n",
    "               .orderBy(F.desc('positive_rate')).limit(10).show()\n"
   ]
  },
  {
   "cell_type": "markdown",
   "metadata": {
    "application/vnd.databricks.v1+cell": {
     "cellMetadata": {
      "byteLimit": 2048000,
      "rowLimit": 10000
     },
     "inputWidgets": {},
     "nuid": "1904000c-cbb4-472e-ac21-d9763299da20",
     "showTitle": false,
     "tableResultSettingsMap": {},
     "title": ""
    }
   },
   "source": [
    "#### We can see above games with 100% positive_rate.####\n",
    "\n",
    "#### Let's see avg_owners distribution and display best rates games for the most represented class (if any) ####"
   ]
  },
  {
   "cell_type": "code",
   "execution_count": 0,
   "metadata": {
    "application/vnd.databricks.v1+cell": {
     "cellMetadata": {
      "byteLimit": 2048000,
      "rowLimit": 10000
     },
     "inputWidgets": {},
     "nuid": "2cecbded-635b-4132-8d14-e441f52be63f",
     "showTitle": false,
     "tableResultSettingsMap": {},
     "title": ""
    }
   },
   "outputs": [
    {
     "output_type": "display_data",
     "data": {
      "text/html": [
       "<style scoped>\n",
       "  .table-result-container {\n",
       "    max-height: 300px;\n",
       "    overflow: auto;\n",
       "  }\n",
       "  table, th, td {\n",
       "    border: 1px solid black;\n",
       "    border-collapse: collapse;\n",
       "  }\n",
       "  th, td {\n",
       "    padding: 5px;\n",
       "  }\n",
       "  th {\n",
       "    text-align: left;\n",
       "  }\n",
       "</style><div class='table-result-container'><table class='table-result'><thead style='background-color: white'><tr><th>bin</th><th>count</th></tr></thead><tbody><tr><td>10000</td><td>55305</td></tr><tr><td>35009000</td><td>0</td></tr><tr><td>70008000</td><td>4</td></tr><tr><td>105007000</td><td>0</td></tr><tr><td>140006000</td><td>0</td></tr><tr><td>175005000</td><td>0</td></tr><tr><td>210004000</td><td>0</td></tr><tr><td>245003000</td><td>0</td></tr><tr><td>280002000</td><td>0</td></tr><tr><td>315001000</td><td>1</td></tr></tbody></table></div>"
      ]
     },
     "metadata": {
      "application/vnd.databricks.v1+output": {
       "addedWidgets": {},
       "aggData": [],
       "aggError": "",
       "aggOverflow": false,
       "aggSchema": [],
       "aggSeriesLimitReached": false,
       "aggType": "",
       "arguments": {},
       "columnCustomDisplayInfos": {},
       "data": [
        [
         10000,
         55305
        ],
        [
         35009000,
         0
        ],
        [
         70008000,
         4
        ],
        [
         105007000,
         0
        ],
        [
         140006000,
         0
        ],
        [
         175005000,
         0
        ],
        [
         210004000,
         0
        ],
        [
         245003000,
         0
        ],
        [
         280002000,
         0
        ],
        [
         315001000,
         1
        ]
       ],
       "datasetInfos": [],
       "dbfsResultPath": null,
       "isJsonSchema": true,
       "metadata": {},
       "overflow": false,
       "plotOptions": {
        "customPlotOptions": {},
        "displayType": "table",
        "pivotAggregation": null,
        "pivotColumns": null,
        "xColumns": null,
        "yColumns": null
       },
       "removedWidgets": [],
       "schema": [
        {
         "metadata": "{}",
         "name": "bin",
         "type": "\"long\""
        },
        {
         "metadata": "{}",
         "name": "count",
         "type": "\"long\""
        }
       ],
       "type": "table"
      }
     },
     "output_type": "display_data"
    }
   ],
   "source": [
    "bins, counts = steam_game_dtf_level0.select('avg_owners').rdd.flatMap(lambda x: x).histogram(10)\n",
    "avg_owners_histo_data = list(zip(bins,counts))\n",
    "avg_owners_histo_dtf = spark.createDataFrame(avg_owners_histo_data, [\"bin\", \"count\"])\n",
    "display(avg_owners_histo_dtf)"
   ]
  },
  {
   "cell_type": "markdown",
   "metadata": {
    "application/vnd.databricks.v1+cell": {
     "cellMetadata": {
      "byteLimit": 2048000,
      "rowLimit": 10000
     },
     "inputWidgets": {},
     "nuid": "d821e394-157d-4956-a3e9-610a0249adf3",
     "showTitle": false,
     "tableResultSettingsMap": {},
     "title": ""
    }
   },
   "source": [
    "#### Define other bins decomposition as most of the games belong to [1, 10000] ####"
   ]
  },
  {
   "cell_type": "code",
   "execution_count": 0,
   "metadata": {
    "application/vnd.databricks.v1+cell": {
     "cellMetadata": {
      "byteLimit": 2048000,
      "rowLimit": 10000
     },
     "inputWidgets": {},
     "nuid": "656ed23f-4b75-4aff-b3ae-24ff9a188a80",
     "showTitle": false,
     "tableResultSettingsMap": {},
     "title": ""
    }
   },
   "outputs": [
    {
     "output_type": "display_data",
     "data": {
      "text/html": [
       "<style scoped>\n",
       "  .table-result-container {\n",
       "    max-height: 300px;\n",
       "    overflow: auto;\n",
       "  }\n",
       "  table, th, td {\n",
       "    border: 1px solid black;\n",
       "    border-collapse: collapse;\n",
       "  }\n",
       "  th, td {\n",
       "    padding: 5px;\n",
       "  }\n",
       "  th {\n",
       "    text-align: left;\n",
       "  }\n",
       "</style><div class='table-result-container'><table class='table-result'><thead style='background-color: white'><tr><th>name</th><th>avg_owners</th></tr></thead><tbody></tbody></table></div>"
      ]
     },
     "metadata": {
      "application/vnd.databricks.v1+output": {
       "addedWidgets": {},
       "aggData": [],
       "aggError": "",
       "aggOverflow": false,
       "aggSchema": [],
       "aggSeriesLimitReached": false,
       "aggType": "",
       "arguments": {},
       "columnCustomDisplayInfos": {},
       "data": [],
       "datasetInfos": [],
       "dbfsResultPath": null,
       "isJsonSchema": true,
       "metadata": {},
       "overflow": false,
       "plotOptions": {
        "customPlotOptions": {},
        "displayType": "table",
        "pivotAggregation": null,
        "pivotColumns": null,
        "xColumns": null,
        "yColumns": null
       },
       "removedWidgets": [],
       "schema": [
        {
         "metadata": "{}",
         "name": "name",
         "type": "\"string\""
        },
        {
         "metadata": "{}",
         "name": "avg_owners",
         "type": "\"integer\""
        }
       ],
       "type": "table"
      }
     },
     "output_type": "display_data"
    }
   ],
   "source": [
    "display(steam_game_dtf_level0.filter(F.col('avg_owners') < 10000 ).select('name','avg_owners').orderBy(F.asc('avg_owners')).limit(10))"
   ]
  },
  {
   "cell_type": "markdown",
   "metadata": {
    "application/vnd.databricks.v1+cell": {
     "cellMetadata": {
      "byteLimit": 2048000,
      "rowLimit": 10000
     },
     "inputWidgets": {},
     "nuid": "cfc2ed26-d5f5-49e5-b9df-9a42f384ff1d",
     "showTitle": false,
     "tableResultSettingsMap": {},
     "title": ""
    }
   },
   "source": [
    "#### As we can see above, the most important class in terms of avg_owners is [0,10000]. In addition all these games have 10000 avg_owners. So let focus on this class and see what are the 10 best rated games #### "
   ]
  },
  {
   "cell_type": "code",
   "execution_count": 0,
   "metadata": {
    "application/vnd.databricks.v1+cell": {
     "cellMetadata": {
      "byteLimit": 2048000,
      "rowLimit": 10000
     },
     "inputWidgets": {},
     "nuid": "8fc4a419-28a0-4cec-970d-02a136a4b4eb",
     "showTitle": false,
     "tableResultSettingsMap": {},
     "title": ""
    }
   },
   "outputs": [
    {
     "output_type": "display_data",
     "data": {
      "text/html": [
       "<style scoped>\n",
       "  .table-result-container {\n",
       "    max-height: 300px;\n",
       "    overflow: auto;\n",
       "  }\n",
       "  table, th, td {\n",
       "    border: 1px solid black;\n",
       "    border-collapse: collapse;\n",
       "  }\n",
       "  th, td {\n",
       "    padding: 5px;\n",
       "  }\n",
       "  th {\n",
       "    text-align: left;\n",
       "  }\n",
       "</style><div class='table-result-container'><table class='table-result'><thead style='background-color: white'><tr><th>name</th><th>avg_owners</th><th>positive_rate</th><th>positive</th><th>negative</th><th>genre</th></tr></thead><tbody><tr><td>The Void Rains Upon Her Heart</td><td>10000</td><td>1.0</td><td>496</td><td>0</td><td>Action, Indie, Early Access</td></tr><tr><td>祈風 Inorikaze</td><td>10000</td><td>1.0</td><td>327</td><td>0</td><td>Adventure, Casual, Indie</td></tr><tr><td>秘封旅行 ~ Secret Sealing Travel</td><td>10000</td><td>1.0</td><td>218</td><td>0</td><td>Casual, Indie, RPG, Simulation, Early Access</td></tr><tr><td>Elasto Mania Remastered</td><td>10000</td><td>1.0</td><td>190</td><td>0</td><td>Casual, Indie, Racing, Simulation, Sports</td></tr><tr><td>Freshly Frosted</td><td>10000</td><td>1.0</td><td>157</td><td>0</td><td>Casual, Indie, Simulation, Strategy</td></tr><tr><td>HAYAI</td><td>10000</td><td>1.0</td><td>148</td><td>0</td><td>Action</td></tr><tr><td>FIND ALL 2: Middle Ages</td><td>10000</td><td>1.0</td><td>132</td><td>0</td><td>Casual, Indie</td></tr><tr><td>Lucy Dreaming</td><td>10000</td><td>1.0</td><td>118</td><td>0</td><td>Adventure</td></tr><tr><td>未来战士</td><td>10000</td><td>1.0</td><td>116</td><td>0</td><td>Action, Adventure, Casual</td></tr><tr><td>Distant Memoraĵo</td><td>10000</td><td>1.0</td><td>114</td><td>0</td><td>Adventure, Indie</td></tr></tbody></table></div>"
      ]
     },
     "metadata": {
      "application/vnd.databricks.v1+output": {
       "addedWidgets": {},
       "aggData": [],
       "aggError": "",
       "aggOverflow": false,
       "aggSchema": [],
       "aggSeriesLimitReached": false,
       "aggType": "",
       "arguments": {},
       "columnCustomDisplayInfos": {},
       "data": [
        [
         "The Void Rains Upon Her Heart",
         10000,
         1.0,
         496,
         0,
         "Action, Indie, Early Access"
        ],
        [
         "祈風 Inorikaze",
         10000,
         1.0,
         327,
         0,
         "Adventure, Casual, Indie"
        ],
        [
         "秘封旅行 ~ Secret Sealing Travel",
         10000,
         1.0,
         218,
         0,
         "Casual, Indie, RPG, Simulation, Early Access"
        ],
        [
         "Elasto Mania Remastered",
         10000,
         1.0,
         190,
         0,
         "Casual, Indie, Racing, Simulation, Sports"
        ],
        [
         "Freshly Frosted",
         10000,
         1.0,
         157,
         0,
         "Casual, Indie, Simulation, Strategy"
        ],
        [
         "HAYAI",
         10000,
         1.0,
         148,
         0,
         "Action"
        ],
        [
         "FIND ALL 2: Middle Ages",
         10000,
         1.0,
         132,
         0,
         "Casual, Indie"
        ],
        [
         "Lucy Dreaming",
         10000,
         1.0,
         118,
         0,
         "Adventure"
        ],
        [
         "未来战士",
         10000,
         1.0,
         116,
         0,
         "Action, Adventure, Casual"
        ],
        [
         "Distant Memoraĵo",
         10000,
         1.0,
         114,
         0,
         "Adventure, Indie"
        ]
       ],
       "datasetInfos": [],
       "dbfsResultPath": null,
       "isJsonSchema": true,
       "metadata": {},
       "overflow": false,
       "plotOptions": {
        "customPlotOptions": {},
        "displayType": "table",
        "pivotAggregation": null,
        "pivotColumns": null,
        "xColumns": null,
        "yColumns": null
       },
       "removedWidgets": [],
       "schema": [
        {
         "metadata": "{}",
         "name": "name",
         "type": "\"string\""
        },
        {
         "metadata": "{}",
         "name": "avg_owners",
         "type": "\"integer\""
        },
        {
         "metadata": "{}",
         "name": "positive_rate",
         "type": "\"double\""
        },
        {
         "metadata": "{}",
         "name": "positive",
         "type": "\"long\""
        },
        {
         "metadata": "{}",
         "name": "negative",
         "type": "\"long\""
        },
        {
         "metadata": "{}",
         "name": "genre",
         "type": "\"string\""
        }
       ],
       "type": "table"
      }
     },
     "output_type": "display_data"
    },
    {
     "output_type": "display_data",
     "data": {
      "text/plain": [
       "Databricks visualization. Run in Databricks to view."
      ]
     },
     "metadata": {
      "application/vnd.databricks.v1.subcommand+json": {
       "baseErrorDetails": null,
       "bindings": {},
       "collapsed": false,
       "command": "%python\n__backend_agg_display_orig = display\n__backend_agg_dfs = []\ndef __backend_agg_display_new(df):\n    __backend_agg_df_modules = [\"pandas.core.frame\", \"databricks.koalas.frame\", \"pyspark.sql.dataframe\", \"pyspark.pandas.frame\", \"pyspark.sql.connect.dataframe\"]\n    if (type(df).__module__ in __backend_agg_df_modules and type(df).__name__ == 'DataFrame') or isinstance(df, list):\n        __backend_agg_dfs.append(df)\n\ndisplay = __backend_agg_display_new\n\ndef __backend_agg_user_code_fn():\n    import base64\n    exec(base64.standard_b64decode(\"YmVzdF9yYXRlZF9nYW1lc19kdGYgPSBzdGVhbV9nYW1lX2R0Zl9sZXZlbDAuZmlsdGVyKEYuY29sKCdhdmdfb3duZXJzJykgPT0gMTAwMDAgKS5zZWxlY3QoRi5jb2woJ25hbWUnKSwgRi5jb2woJ2F2Z19vd25lcnMnKVwKICAgICAgICAgICAgICAgICAgICAsRi5jb2woJ3Bvc2l0aXZlX3JhdGUnKSwgRi5jb2woJ3Bvc2l0aXZlJyksIEYuY29sKCduZWdhdGl2ZScpLCBGLmNvbCgnZ2VucmUnKSlcCiAgICAgICAgICAgICAgIC5vcmRlckJ5KCBGLmRlc2MoJ3Bvc2l0aXZlX3JhdGUnKSxGLmRlc2MoJ3Bvc2l0aXZlJykpLmxpbWl0KDEwKQpkaXNwbGF5KGJlc3RfcmF0ZWRfZ2FtZXNfZHRmKQ==\").decode())\n\ntry:\n    # run user code\n    __backend_agg_user_code_fn()\n\n    #reset display function\n    display = __backend_agg_display_orig\n\n    if len(__backend_agg_dfs) > 0:\n        # create a temp view\n        if type(__backend_agg_dfs[0]).__module__ == \"databricks.koalas.frame\":\n            # koalas dataframe\n            __backend_agg_dfs[0].to_spark().createOrReplaceTempView(\"DatabricksView849b736\")\n        elif type(__backend_agg_dfs[0]).__module__ == \"pandas.core.frame\" or isinstance(__backend_agg_dfs[0], list):\n            # pandas dataframe\n            spark.createDataFrame(__backend_agg_dfs[0]).createOrReplaceTempView(\"DatabricksView849b736\")\n        else:\n            __backend_agg_dfs[0].createOrReplaceTempView(\"DatabricksView849b736\")\n        #run backend agg\n        display(spark.sql(\"\"\"WITH q AS (select * from DatabricksView849b736) SELECT `name`,SUM(`positive`) `column_dacfc151425` FROM q GROUP BY `name`\"\"\"))\n    else:\n        displayHTML(\"dataframe no longer exists. If you're using dataframe.display(), use display(dataframe) instead.\")\n\n\nfinally:\n    spark.sql(\"drop view if exists DatabricksView849b736\")\n    display = __backend_agg_display_orig\n    del __backend_agg_display_new\n    del __backend_agg_display_orig\n    del __backend_agg_dfs\n    del __backend_agg_user_code_fn\n\n",
       "commandTitle": "Visualization 1",
       "commandType": "auto",
       "commandVersion": 0,
       "commentThread": [],
       "commentsVisible": false,
       "contentSha256Hex": null,
       "customPlotOptions": {
        "redashChart": [
         {
          "key": "type",
          "value": "CHART"
         },
         {
          "key": "options",
          "value": {
           "alignYAxesAtZero": true,
           "coefficient": 1,
           "columnConfigurationMap": {
            "x": {
             "column": "name",
             "id": "column_dacfc151427"
            },
            "y": [
             {
              "column": "positive",
              "id": "column_dacfc151425",
              "transform": "SUM"
             }
            ]
           },
           "dateTimeFormat": "DD/MM/YYYY HH:mm",
           "direction": {
            "type": "counterclockwise"
           },
           "error_y": {
            "type": "data",
            "visible": true
           },
           "globalSeriesType": "column",
           "isAggregationOn": true,
           "legend": {
            "traceorder": "normal"
           },
           "missingValuesAsZero": true,
           "numberFormat": "0,0.[00000]",
           "percentFormat": "0[.]00%",
           "reverseX": false,
           "series": {
            "error_y": {
             "type": "data",
             "visible": true
            },
            "stacking": null
           },
           "seriesOptions": {
            "column_dacfc151425": {
             "color": "#919191",
             "type": "column",
             "yAxis": 0
            }
           },
           "showDataLabels": false,
           "sizemode": "diameter",
           "sortX": false,
           "sortY": true,
           "swappedAxes": false,
           "textFormat": "",
           "useAggregationsUi": true,
           "valuesOptions": {},
           "version": 2,
           "xAxis": {
            "labels": {
             "enabled": true
            },
            "type": "-"
           },
           "yAxis": [
            {
             "type": "-"
            },
            {
             "opposite": true,
             "type": "-"
            }
           ]
          }
         }
        ]
       },
       "datasetPreviewNameToCmdIdMap": {},
       "diffDeletes": [],
       "diffInserts": [],
       "displayType": "redashChart",
       "error": null,
       "errorDetails": null,
       "errorSummary": null,
       "errorTraceType": null,
       "finishTime": 0,
       "globalVars": {},
       "guid": "",
       "height": "auto",
       "hideCommandCode": false,
       "hideCommandResult": false,
       "iPythonMetadata": null,
       "inputWidgets": {},
       "isLockedInExamMode": false,
       "latestAssumeRoleInfo": null,
       "latestUser": "a user",
       "latestUserId": null,
       "listResultMetadata": null,
       "metadata": {},
       "nuid": "2649425b-9274-43c8-a12e-9e0cb2a6151d",
       "origId": 0,
       "parentHierarchy": [],
       "pivotAggregation": null,
       "pivotColumns": null,
       "position": 14.90625,
       "resultDbfsErrorMessage": null,
       "resultDbfsStatus": "INLINED_IN_TREE",
       "results": null,
       "showCommandTitle": false,
       "startTime": 0,
       "state": "input",
       "streamStates": {},
       "subcommandOptions": {
        "queryPlan": {
         "groups": [
          {
           "column": "name",
           "type": "column"
          }
         ],
         "selects": [
          {
           "column": "name",
           "type": "column"
          },
          {
           "alias": "column_dacfc151425",
           "args": [
            {
             "column": "positive",
             "type": "column"
            }
           ],
           "function": "SUM",
           "type": "function"
          }
         ]
        }
       },
       "submitTime": 0,
       "subtype": "tableResultSubCmd.visualization",
       "tableResultIndex": 0,
       "tableResultSettingsMap": {},
       "useConsistentColors": false,
       "version": "CommandV1",
       "width": "auto",
       "workflows": [],
       "xColumns": null,
       "yColumns": null
      }
     },
     "output_type": "display_data"
    }
   ],
   "source": [
    "best_rated_games_dtf = steam_game_dtf_level0.filter(F.col('avg_owners') == 10000 ).select(F.col('name'), F.col('avg_owners')\\\n",
    "                    ,F.col('positive_rate'), F.col('positive'), F.col('negative'), F.col('genre'))\\\n",
    "               .orderBy( F.desc('positive_rate'),F.desc('positive')).limit(10)\n",
    "display(best_rated_games_dtf)"
   ]
  },
  {
   "cell_type": "code",
   "execution_count": 0,
   "metadata": {
    "application/vnd.databricks.v1+cell": {
     "cellMetadata": {
      "byteLimit": 2048000,
      "rowLimit": 10000
     },
     "inputWidgets": {},
     "nuid": "8536a42d-f7e1-45e9-a104-e3b9f9edeee1",
     "showTitle": false,
     "tableResultSettingsMap": {},
     "title": ""
    }
   },
   "outputs": [
    {
     "output_type": "stream",
     "name": "stdout",
     "output_type": "stream",
     "text": [
      "Out[24]: {'positive_count': 53468, 'negative_count': 46544}"
     ]
    }
   ],
   "source": [
    "steam_game_view = steam_game_dtf_level0.createOrReplaceTempView('steam_games_view')\n",
    "\n",
    "dct = dict()\n",
    "dct[\"positive_count\"] =spark.sql('SELECT * FROM steam_games_view WHERE positive > 0').count()\n",
    "dct[\"negative_count\"] =spark.sql('SELECT * FROM steam_games_view WHERE negative > 0').count()\n",
    "dct"
   ]
  },
  {
   "cell_type": "markdown",
   "metadata": {
    "application/vnd.databricks.v1+cell": {
     "cellMetadata": {
      "byteLimit": 2048000,
      "rowLimit": 10000
     },
     "inputWidgets": {},
     "nuid": "1a782447-8fff-4924-a7c8-b62bf12eaccf",
     "showTitle": false,
     "tableResultSettingsMap": {},
     "title": ""
    }
   },
   "source": [
    "### Are there years with more releases? Were there more or fewer game releases during the Covid, for example? ###"
   ]
  },
  {
   "cell_type": "markdown",
   "metadata": {
    "application/vnd.databricks.v1+cell": {
     "cellMetadata": {
      "byteLimit": 2048000,
      "rowLimit": 10000
     },
     "inputWidgets": {},
     "nuid": "24ea8995-7a78-4657-8006-ee828c833d18",
     "showTitle": false,
     "tableResultSettingsMap": {},
     "title": ""
    }
   },
   "source": [
    "As we have seen before, dataset contains rows with empty release_date values. Compute release_date's length distribution. \n",
    "\n",
    "In addition explore the different date formats to be parsed to date"
   ]
  },
  {
   "cell_type": "code",
   "execution_count": 0,
   "metadata": {
    "application/vnd.databricks.v1+cell": {
     "cellMetadata": {
      "byteLimit": 2048000,
      "rowLimit": 10000
     },
     "inputWidgets": {},
     "nuid": "a58b26ec-f02b-4b61-87f6-8633b68196c9",
     "showTitle": false,
     "tableResultSettingsMap": {},
     "title": ""
    }
   },
   "outputs": [
    {
     "output_type": "stream",
     "name": "stdout",
     "output_type": "stream",
     "text": [
      "+-----------------------+---------+\n|release_date_str_length|row_count|\n+-----------------------+---------+\n|                      7|      122|\n|                      9|    15651|\n|                     10|    39537|\n+-----------------------+---------+\n\n"
     ]
    }
   ],
   "source": [
    "\n",
    " release_date_str_length_col_name = 'release_date_str_length'\n",
    " steam_game_dtf_level0.filter(F.col('release_date').isNotNull())\\\n",
    "    .withColumn(release_date_str_length_col_name, str_length_function(F.col('release_date')))\\\n",
    "    .groupBy(release_date_str_length_col_name).agg(F.count('id').alias('row_count')).orderBy(F.asc('row_count')).show()\n"
   ]
  },
  {
   "cell_type": "markdown",
   "metadata": {
    "application/vnd.databricks.v1+cell": {
     "cellMetadata": {},
     "inputWidgets": {},
     "nuid": "0d4b11ef-7860-4d6c-9458-23dd16f5194c",
     "showTitle": false,
     "tableResultSettingsMap": {},
     "title": ""
    }
   },
   "source": [
    "#### Display release_date samples by length to see date formats ####"
   ]
  },
  {
   "cell_type": "code",
   "execution_count": 0,
   "metadata": {
    "application/vnd.databricks.v1+cell": {
     "cellMetadata": {
      "byteLimit": 2048000,
      "rowLimit": 10000
     },
     "inputWidgets": {},
     "nuid": "e83993de-de44-4ff9-b3cf-15388affd744",
     "showTitle": false,
     "tableResultSettingsMap": {},
     "title": ""
    }
   },
   "outputs": [
    {
     "output_type": "stream",
     "name": "stdout",
     "output_type": "stream",
     "text": [
      "+-----------------------+------------------------+\n|release_date_str_length|release_date_list_sample|\n+-----------------------+------------------------+\n|                      9|    [2000/11/1, 2019/...|\n|                      7|      [2019/01, 2019/04]|\n|                     10|    [2021/05/14, 2020...|\n+-----------------------+------------------------+\n\n"
     ]
    }
   ],
   "source": [
    "steam_game_dtf_level0.filter(F.col('release_date').isNotNull())\\\n",
    "    .withColumn(release_date_str_length_col_name, str_length_function(F.col('release_date')))\\\n",
    "        .filter(F.col('release_date_str_length')>0)\\\n",
    "    .groupBy(release_date_str_length_col_name).agg((F.slice(F.collect_list('release_date'),1,2)).alias('release_date_list_sample'))\\\n",
    "        .show()"
   ]
  },
  {
   "cell_type": "markdown",
   "metadata": {
    "application/vnd.databricks.v1+cell": {
     "cellMetadata": {
      "byteLimit": 2048000,
      "rowLimit": 10000
     },
     "inputWidgets": {},
     "nuid": "e1951dd6-184f-4279-ae01-92183b39fcf2",
     "showTitle": false,
     "tableResultSettingsMap": {},
     "title": ""
    }
   },
   "source": [
    "#### Filter out rows with empty release dates and create date-type column and year column ####"
   ]
  },
  {
   "cell_type": "code",
   "execution_count": 0,
   "metadata": {
    "application/vnd.databricks.v1+cell": {
     "cellMetadata": {
      "byteLimit": 2048000,
      "rowLimit": 10000
     },
     "inputWidgets": {},
     "nuid": "d3cfbccb-6fdf-453a-ac67-c7bafebb7928",
     "showTitle": false,
     "tableResultSettingsMap": {},
     "title": ""
    }
   },
   "outputs": [
    {
     "output_type": "stream",
     "name": "stdout",
     "output_type": "stream",
     "text": [
      "steam_game_dtf_level0 row count before date processing :  55310\nsteam_game_dtf_level0 row count with valid release_date :  55310\n"
     ]
    }
   ],
   "source": [
    "from datetime import datetime\n",
    "\n",
    "\n",
    "to_date_udf =  udf (lambda x: datetime.strptime(x, '%Y/%m/%d'), DateType())\n",
    "to_date_udf_ym =  udf (lambda x: datetime.strptime(F.concat(x,F.lit('/01')), '%Y/%m/%d'), DateType())\n",
    "\n",
    "def is_valid_date(date_str):\n",
    "    try:\n",
    "        #to_date_udf(date_str)\n",
    "        datetime.strptime(date_str, '%Y/%m/%d')\n",
    "        return True\n",
    "    except ValueError:\n",
    "        return False\n",
    "    \n",
    "valid_date_udf = udf(is_valid_date, BooleanType())\n",
    "# we discard upstream rows with empty release_date (str) - no need to filter\n",
    "# steam_game_dtf_level0.filter(F.col('release_date').isNotNull() & (str_length_function(F.col('release_date'))>0))\\\n",
    "\n",
    "print('steam_game_dtf_level0 row count before date processing : ', steam_game_dtf_level0.count())\n",
    "\n",
    "steam_game_dtf_level0_dates = steam_game_dtf_level0\\\n",
    "    .withColumn('release_date_copy', F.regexp_replace(F.col(\"release_date\"), \"-\", \"/\"))\\\n",
    "    .withColumn('valid_date', valid_date_udf(F.col('release_date_copy')))\\\n",
    "    .withColumn(\"release_date_str\", F.when(F.col('valid_date'), F.col('release_date_copy'))\\\n",
    "                .otherwise(F.concat(F.col('release_date_copy'),F.lit('/01')))\\\n",
    "                )\\\n",
    "    .withColumn(\"release_date_temp\", to_date_udf(F.col('release_date_str')))\\\n",
    "    .withColumn('release_date_year', F.year(F.col('release_date_temp')))\\\n",
    "    .withColumn('valid_date', valid_date_udf(F.col('release_date_str')))\\\n",
    "    .drop(F.col('release_date'), F.col('release_date_copy'), F.col('release_date_str'))\\\n",
    "    .withColumnRenamed('release_date_temp', 'release_date')\n",
    "\n",
    "print('steam_game_dtf_level0 row count with valid release_date : ', steam_game_dtf_level0_dates.filter(F.col('valid_date')).count())\n",
    "\n",
    "games_count = steam_game_dtf_level0.count()\n"
   ]
  },
  {
   "cell_type": "code",
   "execution_count": 0,
   "metadata": {
    "application/vnd.databricks.v1+cell": {
     "cellMetadata": {
      "byteLimit": 2048000,
      "rowLimit": 10000
     },
     "inputWidgets": {},
     "nuid": "a414b3b7-daf9-4cbb-b2f3-a06632a43834",
     "showTitle": false,
     "tableResultSettingsMap": {},
     "title": ""
    }
   },
   "outputs": [],
   "source": [
    "games_count = steam_game_dtf_level0.count()"
   ]
  },
  {
   "cell_type": "markdown",
   "metadata": {
    "application/vnd.databricks.v1+cell": {
     "cellMetadata": {},
     "inputWidgets": {},
     "nuid": "e47caa42-4728-498c-8583-c918372ef90a",
     "showTitle": false,
     "tableResultSettingsMap": {},
     "title": ""
    }
   },
   "source": [
    "#### All release_date valid, so we keep working on steam_game_dtf_level0 ####"
   ]
  },
  {
   "cell_type": "code",
   "execution_count": 0,
   "metadata": {
    "application/vnd.databricks.v1+cell": {
     "cellMetadata": {
      "byteLimit": 2048000,
      "rowLimit": 10000
     },
     "inputWidgets": {},
     "nuid": "0887e305-de37-4195-8d6f-0c0eb48814ee",
     "showTitle": false,
     "tableResultSettingsMap": {},
     "title": ""
    }
   },
   "outputs": [],
   "source": [
    "steam_game_dtf_level0 = steam_game_dtf_level0_dates"
   ]
  },
  {
   "cell_type": "markdown",
   "metadata": {
    "application/vnd.databricks.v1+cell": {
     "cellMetadata": {
      "byteLimit": 2048000,
      "rowLimit": 10000
     },
     "inputWidgets": {},
     "nuid": "9772fae2-d5bf-489e-bdff-4d6c1bafe17e",
     "showTitle": false,
     "tableResultSettingsMap": {},
     "title": ""
    }
   },
   "source": [
    "#### Plot number of games released by year ####"
   ]
  },
  {
   "cell_type": "markdown",
   "metadata": {
    "application/vnd.databricks.v1+cell": {
     "cellMetadata": {
      "byteLimit": 2048000,
      "rowLimit": 10000
     },
     "inputWidgets": {},
     "nuid": "80e1e47c-bb46-46cd-847f-928b683eda0a",
     "showTitle": false,
     "tableResultSettingsMap": {},
     "title": ""
    }
   },
   "source": [
    "As we can see, the number of games experienced significant growth between 2013 and 2018, then it dropped in 2019 (before covid).\n",
    "\n",
    "Back to growth during covid with a lower growth  rate."
   ]
  },
  {
   "cell_type": "code",
   "execution_count": 0,
   "metadata": {
    "application/vnd.databricks.v1+cell": {
     "cellMetadata": {
      "byteLimit": 2048000,
      "rowLimit": 10000
     },
     "inputWidgets": {},
     "nuid": "3b312a1e-05b0-4b33-af54-7c7f13f2df5f",
     "showTitle": false,
     "tableResultSettingsMap": {},
     "title": ""
    }
   },
   "outputs": [
    {
     "output_type": "display_data",
     "data": {
      "text/html": [
       "<style scoped>\n",
       "  .table-result-container {\n",
       "    max-height: 300px;\n",
       "    overflow: auto;\n",
       "  }\n",
       "  table, th, td {\n",
       "    border: 1px solid black;\n",
       "    border-collapse: collapse;\n",
       "  }\n",
       "  th, td {\n",
       "    padding: 5px;\n",
       "  }\n",
       "  th {\n",
       "    text-align: left;\n",
       "  }\n",
       "</style><div class='table-result-container'><table class='table-result'><thead style='background-color: white'><tr><th>release_date_year</th><th>games_count</th></tr></thead><tbody><tr><td>2022</td><td>7449</td></tr><tr><td>2021</td><td>8814</td></tr><tr><td>2020</td><td>8287</td></tr><tr><td>2019</td><td>6941</td></tr><tr><td>2018</td><td>7615</td></tr><tr><td>2017</td><td>5986</td></tr><tr><td>2016</td><td>4154</td></tr><tr><td>2015</td><td>2547</td></tr><tr><td>2014</td><td>1545</td></tr><tr><td>2013</td><td>457</td></tr><tr><td>2012</td><td>330</td></tr><tr><td>2011</td><td>261</td></tr><tr><td>2010</td><td>279</td></tr><tr><td>2009</td><td>305</td></tr><tr><td>2008</td><td>154</td></tr><tr><td>2007</td><td>97</td></tr><tr><td>2006</td><td>61</td></tr><tr><td>2005</td><td>6</td></tr><tr><td>2004</td><td>6</td></tr><tr><td>2003</td><td>3</td></tr><tr><td>2002</td><td>1</td></tr><tr><td>2001</td><td>4</td></tr><tr><td>2000</td><td>2</td></tr><tr><td>1999</td><td>3</td></tr><tr><td>1998</td><td>1</td></tr><tr><td>1997</td><td>2</td></tr></tbody></table></div>"
      ]
     },
     "metadata": {
      "application/vnd.databricks.v1+output": {
       "addedWidgets": {},
       "aggData": [],
       "aggError": "",
       "aggOverflow": false,
       "aggSchema": [],
       "aggSeriesLimitReached": false,
       "aggType": "",
       "arguments": {},
       "columnCustomDisplayInfos": {},
       "data": [
        [
         2022,
         7449
        ],
        [
         2021,
         8814
        ],
        [
         2020,
         8287
        ],
        [
         2019,
         6941
        ],
        [
         2018,
         7615
        ],
        [
         2017,
         5986
        ],
        [
         2016,
         4154
        ],
        [
         2015,
         2547
        ],
        [
         2014,
         1545
        ],
        [
         2013,
         457
        ],
        [
         2012,
         330
        ],
        [
         2011,
         261
        ],
        [
         2010,
         279
        ],
        [
         2009,
         305
        ],
        [
         2008,
         154
        ],
        [
         2007,
         97
        ],
        [
         2006,
         61
        ],
        [
         2005,
         6
        ],
        [
         2004,
         6
        ],
        [
         2003,
         3
        ],
        [
         2002,
         1
        ],
        [
         2001,
         4
        ],
        [
         2000,
         2
        ],
        [
         1999,
         3
        ],
        [
         1998,
         1
        ],
        [
         1997,
         2
        ]
       ],
       "datasetInfos": [],
       "dbfsResultPath": null,
       "isJsonSchema": true,
       "metadata": {},
       "overflow": false,
       "plotOptions": {
        "customPlotOptions": {},
        "displayType": "table",
        "pivotAggregation": null,
        "pivotColumns": null,
        "xColumns": null,
        "yColumns": null
       },
       "removedWidgets": [],
       "schema": [
        {
         "metadata": "{}",
         "name": "release_date_year",
         "type": "\"integer\""
        },
        {
         "metadata": "{}",
         "name": "games_count",
         "type": "\"long\""
        }
       ],
       "type": "table"
      }
     },
     "output_type": "display_data"
    },
    {
     "output_type": "display_data",
     "data": {
      "text/plain": [
       "Databricks visualization. Run in Databricks to view."
      ]
     },
     "metadata": {
      "application/vnd.databricks.v1.subcommand+json": {
       "baseErrorDetails": null,
       "bindings": {},
       "collapsed": false,
       "command": "%python\n__backend_agg_display_orig = display\n__backend_agg_dfs = []\ndef __backend_agg_display_new(df):\n    __backend_agg_df_modules = [\"pandas.core.frame\", \"databricks.koalas.frame\", \"pyspark.sql.dataframe\", \"pyspark.pandas.frame\", \"pyspark.sql.connect.dataframe\"]\n    if (type(df).__module__ in __backend_agg_df_modules and type(df).__name__ == 'DataFrame') or isinstance(df, list):\n        __backend_agg_dfs.append(df)\n\ndisplay = __backend_agg_display_new\n\ndef __backend_agg_user_code_fn():\n    import base64\n    exec(base64.standard_b64decode(\"Z2FtZXNfY291bnRfYnlfeWVhcl9kZiA9IGRmMV9kYXRlcy5ncm91cEJ5KCdyZWxlYXNlX2RhdGVfeWVhcicpLmFnZyhGLmNvdW50KCdpZCcpLmFsaWFzKCdnYW1lc19jb3VudCcpKVwKICAgIC5zZWxlY3QoJyonKS5vcmRlckJ5KEYuZGVzYygncmVsZWFzZV9kYXRlX3llYXInKSkKZGlzcGxheShnYW1lc19jb3VudF9ieV95ZWFyX2RmKQ==\").decode())\n\ntry:\n    # run user code\n    __backend_agg_user_code_fn()\n\n    #reset display function\n    display = __backend_agg_display_orig\n\n    if len(__backend_agg_dfs) > 0:\n        # create a temp view\n        if type(__backend_agg_dfs[0]).__module__ == \"databricks.koalas.frame\":\n            # koalas dataframe\n            __backend_agg_dfs[0].to_spark().createOrReplaceTempView(\"DatabricksView12722ff\")\n        elif type(__backend_agg_dfs[0]).__module__ == \"pandas.core.frame\" or isinstance(__backend_agg_dfs[0], list):\n            # pandas dataframe\n            spark.createDataFrame(__backend_agg_dfs[0]).createOrReplaceTempView(\"DatabricksView12722ff\")\n        else:\n            __backend_agg_dfs[0].createOrReplaceTempView(\"DatabricksView12722ff\")\n        #run backend agg\n        display(spark.sql(\"\"\"WITH q AS (select * from DatabricksView12722ff) SELECT `release_date_year`,`games_count` FROM q\"\"\"))\n    else:\n        displayHTML(\"dataframe no longer exists. If you're using dataframe.display(), use display(dataframe) instead.\")\n\n\nfinally:\n    spark.sql(\"drop view if exists DatabricksView12722ff\")\n    display = __backend_agg_display_orig\n    del __backend_agg_display_new\n    del __backend_agg_display_orig\n    del __backend_agg_dfs\n    del __backend_agg_user_code_fn\n\n",
       "commandTitle": "Visualization 1",
       "commandType": "auto",
       "commandVersion": 0,
       "commentThread": [],
       "commentsVisible": false,
       "contentSha256Hex": null,
       "customPlotOptions": {
        "redashChart": [
         {
          "key": "type",
          "value": "CHART"
         },
         {
          "key": "options",
          "value": {
           "alignYAxesAtZero": true,
           "coefficient": 1,
           "columnConfigurationMap": {
            "x": {
             "column": "release_date_year",
             "id": "column_ad74f04750"
            },
            "y": [
             {
              "column": "games_count",
              "id": "column_ad74f04751"
             }
            ]
           },
           "dateTimeFormat": "DD/MM/YYYY HH:mm",
           "direction": {
            "type": "counterclockwise"
           },
           "error_y": {
            "type": "data",
            "visible": true
           },
           "globalSeriesType": "scatter",
           "legend": {
            "traceorder": "normal"
           },
           "missingValuesAsZero": true,
           "numberFormat": "0,0.[00000]",
           "percentFormat": "0[.]00%",
           "series": {
            "error_y": {
             "type": "data",
             "visible": true
            },
            "stacking": null
           },
           "seriesOptions": {
            "column_ad74f04751": {
             "name": "games_count",
             "yAxis": 0
            },
            "games_count": {
             "color": "#077A9D",
             "name": "Number of games released by year"
            }
           },
           "showDataLabels": false,
           "sizemode": "diameter",
           "sortX": true,
           "sortY": true,
           "swappedAxes": false,
           "textFormat": "",
           "useAggregationsUi": true,
           "valuesOptions": {},
           "version": 2,
           "xAxis": {
            "labels": {
             "enabled": true
            },
            "title": {
             "text": "year"
            },
            "type": "-"
           },
           "yAxis": [
            {
             "title": {
              "text": "number of games released"
             },
             "type": "-"
            },
            {
             "opposite": true,
             "type": "-"
            }
           ]
          }
         }
        ]
       },
       "datasetPreviewNameToCmdIdMap": {},
       "diffDeletes": [],
       "diffInserts": [],
       "displayType": "redashChart",
       "error": null,
       "errorDetails": null,
       "errorSummary": null,
       "errorTraceType": null,
       "finishTime": 0,
       "globalVars": {},
       "guid": "",
       "height": "auto",
       "hideCommandCode": false,
       "hideCommandResult": false,
       "iPythonMetadata": null,
       "inputWidgets": {},
       "isLockedInExamMode": false,
       "latestAssumeRoleInfo": null,
       "latestUser": "a user",
       "latestUserId": null,
       "listResultMetadata": null,
       "metadata": {
        "byteLimit": 2048000,
        "rowLimit": 10000
       },
       "nuid": "20cfaeb6-0c7c-48d9-81cb-a8835418ac67",
       "origId": 0,
       "parentHierarchy": [],
       "pivotAggregation": null,
       "pivotColumns": null,
       "position": 18.0,
       "resultDbfsErrorMessage": null,
       "resultDbfsStatus": "INLINED_IN_TREE",
       "results": null,
       "showCommandTitle": false,
       "startTime": 0,
       "state": "input",
       "streamStates": {},
       "subcommandOptions": {
        "queryPlan": {
         "selects": [
          {
           "column": "release_date_year",
           "type": "column"
          },
          {
           "column": "games_count",
           "type": "column"
          }
         ]
        }
       },
       "submitTime": 0,
       "subtype": "tableResultSubCmd.visualization",
       "tableResultIndex": 0,
       "tableResultSettingsMap": {},
       "useConsistentColors": false,
       "version": "CommandV1",
       "width": "auto",
       "workflows": [],
       "xColumns": null,
       "yColumns": null
      }
     },
     "output_type": "display_data"
    }
   ],
   "source": [
    "games_count_by_year_df = steam_game_dtf_level0.groupBy('release_date_year').agg(F.count('id').alias('games_count'))\\\n",
    "    .select('*').orderBy(F.desc('release_date_year'))\n",
    "display(games_count_by_year_df)"
   ]
  },
  {
   "cell_type": "markdown",
   "metadata": {
    "application/vnd.databricks.v1+cell": {
     "cellMetadata": {
      "byteLimit": 2048000,
      "rowLimit": 10000
     },
     "inputWidgets": {},
     "nuid": "b820c9d8-a6b3-4ffb-ad8d-11e705091b70",
     "showTitle": false,
     "tableResultSettingsMap": {},
     "title": ""
    }
   },
   "source": [
    "### How are the prizes distributed ? Are there many games with a discount? ###"
   ]
  },
  {
   "cell_type": "markdown",
   "metadata": {
    "application/vnd.databricks.v1+cell": {
     "cellMetadata": {
      "byteLimit": 2048000,
      "rowLimit": 10000
     },
     "inputWidgets": {},
     "nuid": "2941bc54-8e93-46a1-bc7c-e5660fe0e6d7",
     "showTitle": false,
     "tableResultSettingsMap": {},
     "title": ""
    }
   },
   "source": [
    "##### Create dataframe with columns subset for price basic analysis. Compute summary statistics for price #####"
   ]
  },
  {
   "cell_type": "markdown",
   "metadata": {
    "application/vnd.databricks.v1+cell": {
     "cellMetadata": {
      "byteLimit": 2048000,
      "rowLimit": 10000
     },
     "inputWidgets": {},
     "nuid": "42e11a33-dadb-41ce-b222-2991c868ea4f",
     "showTitle": false,
     "tableResultSettingsMap": {},
     "title": ""
    }
   },
   "source": [
    "We can notice that prices vary between 0 and 99900. 25% of the prices exceed Q3 (999) and prices > Q3 are twice the median. \n",
    "Max price is 100 times greater than Q3."
   ]
  },
  {
   "cell_type": "code",
   "execution_count": 0,
   "metadata": {
    "application/vnd.databricks.v1+cell": {
     "cellMetadata": {
      "byteLimit": 2048000,
      "rowLimit": 10000
     },
     "inputWidgets": {},
     "nuid": "f616ec7c-3cc1-47f1-a793-cd2e6d98f01e",
     "showTitle": false,
     "tableResultSettingsMap": {},
     "title": ""
    }
   },
   "outputs": [
    {
     "output_type": "display_data",
     "data": {
      "application/vnd.databricks.v1+bamboolib_hint": "{\"pd.DataFrames\": [], \"version\": \"0.0.1\"}",
      "text/plain": []
     },
     "metadata": {},
     "output_type": "display_data"
    },
    {
     "output_type": "stream",
     "name": "stdout",
     "output_type": "stream",
     "text": [
      "+-------+------------------+\n|summary|             price|\n+-------+------------------+\n|  count|             55310|\n|   mean| 775.0847767130717|\n| stddev|1094.7123712082212|\n|    min|                 0|\n|    25%|               149|\n|    50%|               499|\n|    75%|               999|\n|    max|             99900|\n+-------+------------------+\n\n"
     ]
    }
   ],
   "source": [
    "import pandas as pd\n",
    "\n",
    "game_price_df = steam_game_dtf_level0.select('id', 'name', 'price', 'initialprice','discount', 'owners_min', 'owners_max', 'average_income', 'genre', 'type', 'publisher')\n",
    "game_price_df_summary_df = game_price_df.select('price').summary()\n",
    "game_price_df_summary_df.show()\n",
    "#game_price_df_summary_df = game_price_df_summary_df.toPandas().set_index('summary').T\n",
    "#dispersion = pd.to_numeric(game_price_df_summary_df.loc['price','stddev'])/pd.to_numeric(game_price_df_summary_df.loc['price','mean'])\n",
    "#print(' dispersion (stddev/mean) : ' , dispersion)\n",
    "#game_price_df_summary_df.head(10)"
   ]
  },
  {
   "cell_type": "code",
   "execution_count": 0,
   "metadata": {
    "application/vnd.databricks.v1+cell": {
     "cellMetadata": {
      "byteLimit": 2048000,
      "rowLimit": 10000
     },
     "inputWidgets": {},
     "nuid": "47238564-e79f-4afb-9a0e-54ee9ff11cff",
     "showTitle": false,
     "tableResultSettingsMap": {},
     "title": ""
    }
   },
   "outputs": [
    {
     "output_type": "stream",
     "name": "stdout",
     "output_type": "stream",
     "text": [
      "999\n"
     ]
    }
   ],
   "source": [
    "PRICE_Q3_THRESHOLD = game_price_df_summary_df.filter(F.col('summary')=='75%').select(F.col('price')).collect()[0][0]\n",
    "PRICE_Q3_THRESHOLD = int(float(PRICE_Q3_THRESHOLD))\n",
    "print(PRICE_Q3_THRESHOLD)"
   ]
  },
  {
   "cell_type": "markdown",
   "metadata": {
    "application/vnd.databricks.v1+cell": {
     "cellMetadata": {
      "byteLimit": 2048000,
      "rowLimit": 10000
     },
     "inputWidgets": {},
     "nuid": "6f503e22-dd18-4f11-8bf4-15b8c5f6d475",
     "showTitle": false,
     "tableResultSettingsMap": {},
     "title": ""
    }
   },
   "source": [
    "#### Display row(s) with max price ####"
   ]
  },
  {
   "cell_type": "code",
   "execution_count": 0,
   "metadata": {
    "application/vnd.databricks.v1+cell": {
     "cellMetadata": {
      "byteLimit": 2048000,
      "rowLimit": 10000
     },
     "inputWidgets": {},
     "nuid": "6d373c15-4b88-491f-8f1f-b48ff99682af",
     "showTitle": false,
     "tableResultSettingsMap": {},
     "title": ""
    }
   },
   "outputs": [
    {
     "output_type": "stream",
     "name": "stdout",
     "output_type": "stream",
     "text": [
      "+-------+--------------------+-----+------------+--------+----------+----------+--------------+------+----+----------+\n|     id|                name|price|initialprice|discount|owners_min|owners_max|average_income| genre|type| publisher|\n+-------+--------------------+-----+------------+--------+----------+----------+--------------+------+----+----------+\n|1200520|Ascent Free-Roami...|99900|       99900|       0|         0|     20000|        9.99E8|Action|game|Fury Games|\n+-------+--------------------+-----+------------+--------+----------+----------+--------------+------+----+----------+\n\n"
     ]
    }
   ],
   "source": [
    "game_price_df.filter(F.col('price')==99900).limit(10).show()"
   ]
  },
  {
   "cell_type": "markdown",
   "metadata": {
    "application/vnd.databricks.v1+cell": {
     "cellMetadata": {
      "byteLimit": 2048000,
      "rowLimit": 10000
     },
     "inputWidgets": {},
     "nuid": "0e7b4b54-3aaa-4b9f-8a4b-0be52dd0a9aa",
     "showTitle": false,
     "tableResultSettingsMap": {},
     "title": ""
    }
   },
   "source": [
    "##### Display boxplot for prices between min and Q3 #####"
   ]
  },
  {
   "cell_type": "code",
   "execution_count": 0,
   "metadata": {
    "application/vnd.databricks.v1+cell": {
     "cellMetadata": {
      "byteLimit": 2048000,
      "rowLimit": 10000
     },
     "inputWidgets": {},
     "nuid": "fc997854-8da3-40e3-ab6b-4dd6dae493f1",
     "showTitle": false,
     "tableResultSettingsMap": {},
     "title": ""
    }
   },
   "outputs": [
    {
     "output_type": "display_data",
     "data": {
      "image/png": "[encoded data removed]"
     },
     "metadata": {
      "application/vnd.databricks.v1+output": {
       "addedWidgets": {},
       "arguments": {},
       "data": "data:image/png;base64,iVBORw0KGgoAAAANSUhEUgAAAX0AAAD4CAYAAAAAczaOAAAAOXRFWHRTb2Z0d2FyZQBNYXRwbG90bGliIHZlcnNpb24zLjUuMSwgaHR0cHM6Ly9tYXRwbG90bGliLm9yZy/YYfK9AAAACXBIWXMAAAsTAAALEwEAmpwYAAAOJElEQVR4nO3dbYxc1X3H8e+vGPJAKY/RCtluFyluGpQKFS2EKFW1xFEaoKp5AWnSqljIqquWprRUarZ9g5S+MWpVmlQp6irQOGqUQGkkrBgRIcejKq3i8lBCACdiRSG2ZR7CU4LTKHX174s9JAvY4J3ZmXVyvh9pNeeee+49Z6Tr39w5c69vqgpJUh9+ZrUHIEmaHENfkjpi6EtSRwx9SeqIoS9JHVmz2gN4PWeddVZNT0+v9jCkIzp06BAnn3zyag9Deo377rvvO1X1tiOtO65Df3p6mnvvvXe1hyEd0WAwYHZ2drWHIb1GkieOts7pHUnqiKEvSR0x9CWpI4a+JHXE0Jekjrxh6Ce5JcnTSR5aUndGkruTPNpeT2/1SfLJJAtJHkxy/pJtNrf2jybZPJ63I0l6Pcdypv8Z4IOvqpsDdlXVBmBXWwa4BNjQ/rYCN8HihwRwPfBu4ELg+pc/KCRJk/OGoV9V/wY896rqTcD2Vt4OXL6k/rO16GvAaUnOBn4duLuqnquq54G7ee0HiSRpzIa9OWuqqg628pPAVCuvBfYtabe/1R2t/jWSbGXxWwJTU1MMBoMhhygdu4svvngi/ezevXsi/UhHM/IduVVVSVbsSSxVNQ/MA8zMzJR3PGoShnmY0PTcTh7fdtkYRiONz7BX7zzVpm1or0+3+gPA+iXt1rW6o9VLkiZo2NDfAbx8Bc5m4I4l9Ve1q3guAl5s00BfBj6Q5PT2A+4HWp0kaYLecHonyeeBWeCsJPtZvApnG3Bbki3AE8CHWvM7gUuBBeD7wNUAVfVckr8C7mntPl5Vr/5xWJI0Zm8Y+lX1kaOs2niEtgVcc5T93ALcsqzRSZJWlHfkSlJHDH1J6oihL0kdMfQlqSOGviR1xNCXpI4Y+pLUEUNfkjpi6EtSRwx9SeqIoS9JHTH0Jakjhr4kdcTQl6SOGPqS1BFDX5I6YuhLUkcMfUnqiKEvSR0x9CWpI4a+JHXE0Jekjhj6ktQRQ1+SOmLoS1JHDH1J6oihL0kdMfQlqSOGviR1xNCXpI6MFPpJ/jTJw0keSvL5JG9Ock6SPUkWktya5KTW9k1teaGtn16RdyBJOmZDh36StcAfAzNV9S7gBODDwA3AjVX1duB5YEvbZAvwfKu/sbWTJE3QqNM7a4C3JFkDvBU4CLwPuL2t3w5c3sqb2jJt/cYkGbF/SdIyDB36VXUA+Bvg2yyG/YvAfcALVXW4NdsPrG3ltcC+tu3h1v7MYfuXJC3fmmE3THI6i2fv5wAvAP8CfHDUASXZCmwFmJqaYjAYjLpLaWw8PvWTZujQB94P/HdVPQOQ5IvAe4HTkqxpZ/PrgAOt/QFgPbC/TQedCjz76p1W1TwwDzAzM1Ozs7MjDFEao7t24vGpnzSjzOl/G7goyVvb3PxG4BFgN3BFa7MZuKOVd7Rl2vqvVFWN0L8kaZlGmdPfw+IPsvcD32j7mgc+BlyXZIHFOfub2yY3A2e2+uuAuRHGLUkawijTO1TV9cD1r6p+DLjwCG1/AFw5Sn+SpNF4R64kdcTQl6SOGPqS1BFDX5I6YuhLUkcMfUnqiKEvSR0x9CWpI4a+JHXE0Jekjhj6ktQRQ1+SOmLoS1JHDH1J6oihL0kdMfQlqSOGviR1xNCXpI4Y+pLUEUNfkjpi6EtSRwx9SeqIoS9JHTH0Jakjhr4kdcTQl6SOGPqS1BFDX5I6YuhLUkcMfUnqiKEvSR0ZKfSTnJbk9iTfTLI3yXuSnJHk7iSPttfTW9sk+WSShSQPJjl/Zd6CJOlYjXqm/wngrqr6JeA8YC8wB+yqqg3ArrYMcAmwof1tBW4asW9J0jINHfpJTgV+DbgZoKp+WFUvAJuA7a3ZduDyVt4EfLYWfQ04LcnZw/YvSVq+NSNsew7wDPBPSc4D7gOuBaaq6mBr8yQw1cprgX1Ltt/f6g4uqSPJVha/CTA1NcVgMBhhiOrVNbsOceh/x9/P9NzOse7/5BPhUxtPHmsf6ssoob8GOB/4aFXtSfIJfjyVA0BVVZJazk6rah6YB5iZmanZ2dkRhqheHbprJ49vu2ysfQwGA8Z9fE7P7Rx7H+rLKHP6+4H9VbWnLd/O4ofAUy9P27TXp9v6A8D6Jduva3WSpAkZOvSr6klgX5J3tKqNwCPADmBzq9sM3NHKO4Cr2lU8FwEvLpkGkiRNwCjTOwAfBT6X5CTgMeBqFj9IbkuyBXgC+FBreydwKbAAfL+1lSRN0EihX1UPADNHWLXxCG0LuGaU/iRJo/GOXEnqiKEvSR0x9CWpI4a+JHXE0Jekjhj6ktQRQ1+SOmLoS1JHDH1J6oihL0kdMfQlqSOGviR1xNCXpI4Y+pLUEUNfkjpi6EtSRwx9SeqIoS9JHTH0Jakjhr4kdcTQl6SOGPqS1BFDX5I6YuhLUkcMfUnqiKEvSR0x9CWpI4a+JHXE0Jekjhj6ktQRQ1+SOjJy6Cc5Icl/JflSWz4nyZ4kC0luTXJSq39TW15o66dH7VuStDwrcaZ/LbB3yfINwI1V9XbgeWBLq98CPN/qb2ztJEkTNFLoJ1kHXAZ8ui0HeB9we2uyHbi8lTe1Zdr6ja29JGlC1oy4/d8Bfw6c0pbPBF6oqsNteT+wtpXXAvsAqupwkhdb++8s3WGSrcBWgKmpKQaDwYhDVK/Gfey89NJLEzk+/TeglTR06Cf5DeDpqrovyexKDaiq5oF5gJmZmZqdXbFdqyd37WTcx85gMBh7H5N4H+rLKGf67wV+M8mlwJuBnwM+AZyWZE07218HHGjtDwDrgf1J1gCnAs+O0L8kaZmGntOvqr+oqnVVNQ18GPhKVf0OsBu4ojXbDNzRyjvaMm39V6qqhu1fkrR847hO/2PAdUkWWJyzv7nV3wyc2eqvA+bG0Lck6XWM+kMuAFU1AAat/Bhw4RHa/AC4ciX6kyQNxztyJakjhr4kdcTQl6SOGPqS1BFDX5I6YuhLUkcMfUnqiKEvSR0x9CWpI4a+JHXE0Jekjhj6ktQRQ1+SOmLoS1JHVuS/VpaON6e8c45f3j6BRzZsH+/uT3knwGXj7URdMfT1U+l7e7fx+LbxhuUknpE7PbdzrPtXf5zekaSOGPqS1BFDX5I6YuhLUkcMfUnqiKEvSR0x9CWpI4a+JHXE0Jekjhj6ktQRQ1+SOmLoS1JHDH1J6oihL0kdGTr0k6xPsjvJI0keTnJtqz8jyd1JHm2vp7f6JPlkkoUkDyY5f6XehCTp2Ixypn8Y+LOqOhe4CLgmybnAHLCrqjYAu9oywCXAhva3FbhphL4lSUMYOvSr6mBV3d/K3wP2AmuBTfz4eULbgctbeRPw2Vr0NeC0JGcP278kaflW5MlZSaaBXwH2AFNVdbCtehKYauW1wL4lm+1vdQeX1JFkK4vfBJiammIwGKzEENWhcR87L7300kSOT/8NaCWNHPpJfhb4V+BPquq7SX60rqoqSS1nf1U1D8wDzMzM1LgfR6efUnftHPujDCfxuMRJvA/1ZaSrd5KcyGLgf66qvtiqn3p52qa9Pt3qDwDrl2y+rtVJkiZklKt3AtwM7K2qv12yagewuZU3A3csqb+qXcVzEfDikmkgSdIEjDK9817gd4FvJHmg1f0lsA24LckW4AngQ23dncClwALwfeDqEfqWJA1h6NCvqq8COcrqjUdoX8A1w/YnSRqdd+RKUkcMfUnqiKEvSR0x9CWpI4a+JHXE0Jekjhj6ktQRQ1+SOmLoS1JHDH1J6oihL0kdMfQlqSOGviR1xNCXpI6syDNypePR9NzO8Xdy13j7OPUtJ451/+qPoa+fSo9vu2zsfUzP7ZxIP9JKcnpHkjpi6EtSRwx9SeqIoS9JHTH0Jakjhr4kdcTQl6SOGPqS1BFDX5I6YuhLUkcMfUnqiKEvSR0x9CWpI4a+JHXE0Jekjkw89JN8MMm3kiwkmZt0/5LUs4mGfpITgE8BlwDnAh9Jcu4kxyBJPZv0mf6FwEJVPVZVPwS+AGya8BgkqVuTflziWmDfkuX9wLuXNkiyFdgKMDU1xWAwmNjg1K+LL754qO1yw/La7969e6h+pJVy3D0jt6rmgXmAmZmZmp2dXd0BqQtVtextBoMBHp/6STPp6Z0DwPoly+tanSRpAiYd+vcAG5Kck+Qk4MPAjgmPQZK6NdHpnao6nOSPgC8DJwC3VNXDkxyDJPVs4nP6VXUncOek+5UkeUeuJHXF0Jekjhj6ktQRQ1+SOpJhbkqZlCTPAE+s9jikozgL+M5qD0I6gl+oqrcdacVxHfrS8SzJvVU1s9rjkJbD6R1J6oihL0kdMfSl4c2v9gCk5XJOX5I64pm+JHXE0Jekjhj60jIl+XiS96/2OKRhOKcvLUOSE6rq/1Z7HNKwPNOXmiTTSb6Z5HNJ9ia5Pclbkzye5IYk9wNXJvlMkivaNhck+Y8kX0/yn0lOSXJCkr9Ock+SB5P8/iq/NelHDH3pld4B/ENVvRP4LvCHrf7Zqjq/qr7wcsP29LdbgWur6jzg/cD/AFuAF6vqAuAC4PeSnDPJNyEdjaEvvdK+qvr3Vv5n4Fdb+dYjtH0HcLCq7gGoqu9W1WHgA8BVSR4A9gBnAhvGOmrpGE38yVnSce7VP3K9vHxoGfsI8NGq+vLKDElaOZ7pS6/080ne08q/DXz1ddp+Czg7yQUAbT5/DYvPgP6DJCe2+l9McvI4By0dK0NfeqVvAdck2QucDtx0tIZV9UPgt4C/T/J14G7gzcCngUeA+5M8BPwjfqvWccJLNqUmyTTwpap612qPRRoXz/QlqSOe6UtSRzzTl6SOGPqS1BFDX5I6YuhLUkcMfUnqyP8D9uc5Nf5mPzMAAAAASUVORK5CYII=\n",
       "datasetInfos": [],
       "metadata": {},
       "removedWidgets": [],
       "type": "image"
      }
     },
     "output_type": "display_data"
    }
   ],
   "source": [
    "game_price_df_boxplot = game_price_df.filter(F.col('price')<=PRICE_Q3_THRESHOLD).toPandas().boxplot(column='price').plot()\n"
   ]
  },
  {
   "cell_type": "markdown",
   "metadata": {
    "application/vnd.databricks.v1+cell": {
     "cellMetadata": {
      "byteLimit": 2048000,
      "rowLimit": 10000
     },
     "inputWidgets": {},
     "nuid": "512a1e3b-e0f0-4fbf-82c8-67997375e0d7",
     "showTitle": false,
     "tableResultSettingsMap": {},
     "title": ""
    }
   },
   "source": [
    "##### Focus on prices > Q3 excluding outlier #####"
   ]
  },
  {
   "cell_type": "code",
   "execution_count": 0,
   "metadata": {
    "application/vnd.databricks.v1+cell": {
     "cellMetadata": {
      "byteLimit": 2048000,
      "rowLimit": 10000
     },
     "inputWidgets": {},
     "nuid": "d0cdb64a-90d8-414b-8a46-e3be318e5dcc",
     "showTitle": false,
     "tableResultSettingsMap": {},
     "title": ""
    }
   },
   "outputs": [
    {
     "output_type": "display_data",
     "data": {
      "image/png": "[encoded data removed]"
     },
     "metadata": {
      "application/vnd.databricks.v1+output": {
       "addedWidgets": {},
       "arguments": {},
       "data": "data:image/png;base64,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\n",
       "datasetInfos": [],
       "metadata": {},
       "removedWidgets": [],
       "type": "image"
      }
     },
     "output_type": "display_data"
    }
   ],
   "source": [
    "game_price_df_boxplot = game_price_df.filter((F.col('price')>PRICE_Q3_THRESHOLD) & (F.col('price')<99900))\\\n",
    ".toPandas().boxplot(column='price').plot()\n"
   ]
  },
  {
   "cell_type": "markdown",
   "metadata": {
    "application/vnd.databricks.v1+cell": {
     "cellMetadata": {},
     "inputWidgets": {},
     "nuid": "2de313d6-3a5c-40c3-8a50-1859c46b8a89",
     "showTitle": false,
     "tableResultSettingsMap": {},
     "title": ""
    }
   },
   "source": [
    "### Games with discount ###\n"
   ]
  },
  {
   "cell_type": "code",
   "execution_count": 0,
   "metadata": {
    "application/vnd.databricks.v1+cell": {
     "cellMetadata": {
      "byteLimit": 2048000,
      "rowLimit": 10000
     },
     "inputWidgets": {},
     "nuid": "7a1a740a-22b3-4839-a527-d8ef48f784b8",
     "showTitle": false,
     "tableResultSettingsMap": {},
     "title": ""
    }
   },
   "outputs": [
    {
     "output_type": "stream",
     "name": "stdout",
     "output_type": "stream",
     "text": [
      "Percentage of games with a discount :  4.54\n"
     ]
    }
   ],
   "source": [
    "\n",
    "print('Percentage of games with a discount : ',format_2_decimals((game_price_df.filter(F.col('discount') > 0).count())*100/games_count))"
   ]
  },
  {
   "cell_type": "markdown",
   "metadata": {
    "application/vnd.databricks.v1+cell": {
     "cellMetadata": {
      "byteLimit": 2048000,
      "rowLimit": 10000
     },
     "inputWidgets": {},
     "nuid": "7fe8e0f7-f256-4080-8506-271cf6cc0dee",
     "showTitle": false,
     "tableResultSettingsMap": {},
     "title": ""
    }
   },
   "source": [
    "##### Top 10 publishers in term of mean price (focusing on games with price >  Q3) #####"
   ]
  },
  {
   "cell_type": "code",
   "execution_count": 0,
   "metadata": {
    "application/vnd.databricks.v1+cell": {
     "cellMetadata": {
      "byteLimit": 2048000,
      "rowLimit": 10000
     },
     "inputWidgets": {},
     "nuid": "83d28546-4afa-4359-b58d-c5091ab5035c",
     "showTitle": false,
     "tableResultSettingsMap": {},
     "title": ""
    }
   },
   "outputs": [
    {
     "output_type": "stream",
     "name": "stdout",
     "output_type": "stream",
     "text": [
      "+--------------------+--------+----------+---------+\n|           publisher|nb_games|mean_price|max_price|\n+--------------------+--------+----------+---------+\n|            Aartform|       1|   29990.0|    29990|\n|              SideFX|       1|   26999.0|    26999|\n|AssetFlipGames Wo...|       1|   19999.0|    19999|\n|           StaplesVR|       1|   19999.0|    19999|\n|          3Dflow SRL|       1|   19999.0|    19999|\n|             Klip VR|       1|   19999.0|    19999|\n|              H.G.G.|       1|   19999.0|    19999|\n|          EFatullaev|       1|   19999.0|    19999|\n|             rongyou|       1|   19999.0|    19999|\n|             wandwad|       1|   19999.0|    19999|\n+--------------------+--------+----------+---------+\n\n"
     ]
    }
   ],
   "source": [
    "game_price_df.filter((F.col('price')>PRICE_Q3_THRESHOLD) & (F.col('price')<99900)).groupBy(F.col('publisher')).agg(F.count('id')\\\n",
    "   .alias('nb_games')\\\n",
    "  ,F.mean('price').alias('mean_price')\\\n",
    "  ,F.max('price').alias('max_price'))\\\n",
    "    .orderBy(F.desc('mean_price')).limit(10).show()"
   ]
  },
  {
   "cell_type": "markdown",
   "metadata": {
    "application/vnd.databricks.v1+cell": {
     "cellMetadata": {
      "byteLimit": 2048000,
      "rowLimit": 10000
     },
     "inputWidgets": {},
     "nuid": "84bafebd-ace1-4c22-bd97-f68ab7c6b16f",
     "showTitle": false,
     "tableResultSettingsMap": {},
     "title": ""
    }
   },
   "source": [
    "##### Comparing to Top 10 publishers in term of mean price (focusing on games with price <= Q3) #####"
   ]
  },
  {
   "cell_type": "code",
   "execution_count": 0,
   "metadata": {
    "application/vnd.databricks.v1+cell": {
     "cellMetadata": {
      "byteLimit": 2048000,
      "rowLimit": 10000
     },
     "inputWidgets": {},
     "nuid": "0753c132-0f71-4ef4-8422-ea2838a5d479",
     "showTitle": false,
     "tableResultSettingsMap": {},
     "title": ""
    }
   },
   "outputs": [
    {
     "output_type": "stream",
     "name": "stdout",
     "output_type": "stream",
     "text": [
      "+--------------------+--------+----------+---------+\n|           publisher|nb_games|mean_price|max_price|\n+--------------------+--------+----------+---------+\n|        Selecta Play|       1|     999.0|      999|\n| PunchButton Studios|       1|     999.0|      999|\n|Axis Game Factory...|       1|     999.0|      999|\n|        S H B studio|       1|     999.0|      999|\n|             XIAOYAO|       1|     999.0|      999|\n|   Groliver7 Studios|       1|     999.0|      999|\n|    Carpe Fulgur LLC|       2|     999.0|      999|\n|Navila Software J...|       1|     999.0|      999|\n|         Amazu Media|       1|     999.0|      999|\n|        Winteractive|       1|     999.0|      999|\n+--------------------+--------+----------+---------+\n\n"
     ]
    }
   ],
   "source": [
    "game_price_df.filter(F.col('price')<=PRICE_Q3_THRESHOLD).groupBy(F.col('publisher')).agg(F.count('id').alias('nb_games')\\\n",
    "                                                   ,F.mean('price').alias('mean_price')\\\n",
    "                                                   ,F.max('price').alias('max_price')\n",
    "                                                   ).orderBy(F.desc('mean_price')).limit(10).show()"
   ]
  },
  {
   "cell_type": "markdown",
   "metadata": {
    "application/vnd.databricks.v1+cell": {
     "cellMetadata": {
      "byteLimit": 2048000,
      "rowLimit": 10000
     },
     "inputWidgets": {},
     "nuid": "97c53896-a969-42fa-b95a-a1ce4bc0437c",
     "showTitle": false,
     "tableResultSettingsMap": {},
     "title": ""
    }
   },
   "source": [
    "##### Explode list of genres and compute statistics by genre #####"
   ]
  },
  {
   "cell_type": "code",
   "execution_count": 0,
   "metadata": {
    "application/vnd.databricks.v1+cell": {
     "cellMetadata": {
      "byteLimit": 2048000,
      "rowLimit": 10000
     },
     "inputWidgets": {},
     "nuid": "ab9a6233-98a9-463a-a8b5-2b8aaf0312f0",
     "showTitle": true,
     "tableResultSettingsMap": {},
     "title": "("
    }
   },
   "outputs": [],
   "source": [
    "from pyspark.sql.functions import split, trim\n",
    "\n",
    "games_genre_split_df = game_price_df.withColumn('genre_splited', F.expr(\"transform(split(genre,','),x -> trim(x))\"))\\\n",
    "    .withColumn('genre_splited',F.explode('genre_splited')).drop('genre')\\\n",
    "    .select('id', 'price','genre_splited', 'average_income')"
   ]
  },
  {
   "cell_type": "markdown",
   "metadata": {
    "application/vnd.databricks.v1+cell": {
     "cellMetadata": {
      "byteLimit": 2048000,
      "rowLimit": 10000
     },
     "inputWidgets": {},
     "nuid": "6513a20a-285b-4cea-a920-d39bdae60071",
     "showTitle": false,
     "tableResultSettingsMap": {},
     "title": ""
    }
   },
   "source": [
    "#### Top 10 genres in term of mean price (focusing on games with price > Q3) ####"
   ]
  },
  {
   "cell_type": "code",
   "execution_count": 0,
   "metadata": {
    "application/vnd.databricks.v1+cell": {
     "cellMetadata": {
      "byteLimit": 2048000,
      "rowLimit": 10000
     },
     "inputWidgets": {},
     "nuid": "6870c8af-496e-4c2f-bc9c-bfc01801500e",
     "showTitle": false,
     "tableResultSettingsMap": {},
     "title": ""
    }
   },
   "outputs": [
    {
     "output_type": "stream",
     "name": "stdout",
     "output_type": "stream",
     "text": [
      "+--------------------+--------+---------+------------------+\n|       genre_splited|id_count|max_price|         avg_price|\n+--------------------+--------+---------+------------------+\n|    Video Production|      80|    26999|          5458.975|\n|Animation & Modeling|     117|    29990| 4836.461538461538|\n|    Audio Production|      80|    14999|         4447.3625|\n|          Accounting|       5|     8999|            4399.0|\n|Design & Illustra...|     163|    26999|4348.9693251533745|\n|       Photo Editing|      48|     9999| 4221.479166666667|\n|      Web Publishing|      45|     9999| 4100.133333333333|\n|    Game Development|      78|    26999|4020.8076923076924|\n|           Education|     103|    19999| 3917.368932038835|\n|   Software Training|      82|    12999| 3522.451219512195|\n+--------------------+--------+---------+------------------+\n\n"
     ]
    }
   ],
   "source": [
    "games_genre_split_df.filter(F.col('price')>PRICE_Q3_THRESHOLD).groupBy('genre_splited').agg(F.count('id').alias('id_count')\\\n",
    "                                                            , F.max('price').alias('max_price')\\\n",
    "                                                            ,F.avg('price').alias('avg_price')\n",
    "                                                            ).orderBy(F.desc('avg_price')).limit(10).show()"
   ]
  },
  {
   "cell_type": "markdown",
   "metadata": {
    "application/vnd.databricks.v1+cell": {
     "cellMetadata": {
      "byteLimit": 2048000,
      "rowLimit": 10000
     },
     "inputWidgets": {},
     "nuid": "36c166a4-ff62-4ab2-a01d-2e2cada3e17e",
     "showTitle": false,
     "tableResultSettingsMap": {},
     "title": ""
    }
   },
   "source": [
    "##### Comparing to Top 10 genres in term of mean price (focusing on games with price <= Q3) #####"
   ]
  },
  {
   "cell_type": "code",
   "execution_count": 0,
   "metadata": {
    "application/vnd.databricks.v1+cell": {
     "cellMetadata": {
      "byteLimit": 2048000,
      "rowLimit": 10000
     },
     "inputWidgets": {},
     "nuid": "8007091e-17a3-404e-b8e7-a828d4e85abb",
     "showTitle": false,
     "tableResultSettingsMap": {},
     "title": ""
    }
   },
   "outputs": [
    {
     "output_type": "stream",
     "name": "stdout",
     "output_type": "stream",
     "text": [
      "+--------------+--------+---------+------------------+\n| genre_splited|id_count|max_price|         avg_price|\n+--------------+--------+---------+------------------+\n|Sexual Content|      44|      999|449.22727272727275|\n|     Adventure|   16243|      999| 431.7616819553038|\n|    Simulation|    7778|      999| 431.0257135510414|\n|  Early Access|    4206|      999|426.87565382786494|\n|      Strategy|    8092|      999| 425.9206623826001|\n|        Nudity|      37|      999|424.94594594594594|\n|           RPG|    6732|      999| 410.9024064171123|\n|        Sports|    1966|      999| 408.6144455747711|\n|        Action|   18351|      999| 405.6183314260803|\n|        Racing|    1643|      999|399.67802799756544|\n+--------------+--------+---------+------------------+\n\n"
     ]
    }
   ],
   "source": [
    "games_genre_split_df.filter(F.col('price')<=PRICE_Q3_THRESHOLD).groupBy('genre_splited').agg(F.count('id').alias('id_count')\\\n",
    "                                                            , F.max('price').alias('max_price')\\\n",
    "                                                            ,F.avg('price').alias('avg_price')\n",
    "                                                            ).orderBy(F.desc('avg_price')).limit(10).show()"
   ]
  },
  {
   "cell_type": "markdown",
   "metadata": {
    "application/vnd.databricks.v1+cell": {
     "cellMetadata": {
      "byteLimit": 2048000,
      "rowLimit": 10000
     },
     "inputWidgets": {},
     "nuid": "58657729-e1c2-4666-93bd-ccee8115bd86",
     "showTitle": false,
     "tableResultSettingsMap": {},
     "title": ""
    }
   },
   "source": [
    "### What are the most represented languages ? ###"
   ]
  },
  {
   "cell_type": "code",
   "execution_count": 0,
   "metadata": {
    "application/vnd.databricks.v1+cell": {
     "cellMetadata": {
      "byteLimit": 2048000,
      "rowLimit": 10000
     },
     "inputWidgets": {},
     "nuid": "6adc6591-e611-4690-a830-d7f04c2becd1",
     "showTitle": false,
     "tableResultSettingsMap": {},
     "title": ""
    }
   },
   "outputs": [
    {
     "output_type": "display_data",
     "data": {
      "text/html": [
       "<style scoped>\n",
       "  .table-result-container {\n",
       "    max-height: 300px;\n",
       "    overflow: auto;\n",
       "  }\n",
       "  table, th, td {\n",
       "    border: 1px solid black;\n",
       "    border-collapse: collapse;\n",
       "  }\n",
       "  th, td {\n",
       "    padding: 5px;\n",
       "  }\n",
       "  th {\n",
       "    text-align: left;\n",
       "  }\n",
       "</style><div class='table-result-container'><table class='table-result'><thead style='background-color: white'><tr><th>language</th><th>id_count</th><th>percentage</th></tr></thead><tbody><tr><td>English</td><td>54748</td><td>98.98</td></tr><tr><td>German</td><td>13925</td><td>25.18</td></tr><tr><td>French</td><td>13323</td><td>24.09</td></tr><tr><td>Russian</td><td>12868</td><td>23.27</td></tr><tr><td>Simplified Chinese</td><td>12739</td><td>23.03</td></tr><tr><td>Spanish - Spain</td><td>12153</td><td>21.97</td></tr><tr><td>Japanese</td><td>10330</td><td>18.68</td></tr><tr><td>Italian</td><td>9240</td><td>16.71</td></tr><tr><td>Portuguese - Brazil</td><td>6719</td><td>12.15</td></tr><tr><td>Korean</td><td>6580</td><td>11.9</td></tr></tbody></table></div>"
      ]
     },
     "metadata": {
      "application/vnd.databricks.v1+output": {
       "addedWidgets": {},
       "aggData": [],
       "aggError": "",
       "aggOverflow": false,
       "aggSchema": [],
       "aggSeriesLimitReached": false,
       "aggType": "",
       "arguments": {},
       "columnCustomDisplayInfos": {},
       "data": [
        [
         "English",
         54748,
         98.98
        ],
        [
         "German",
         13925,
         25.18
        ],
        [
         "French",
         13323,
         24.09
        ],
        [
         "Russian",
         12868,
         23.27
        ],
        [
         "Simplified Chinese",
         12739,
         23.03
        ],
        [
         "Spanish - Spain",
         12153,
         21.97
        ],
        [
         "Japanese",
         10330,
         18.68
        ],
        [
         "Italian",
         9240,
         16.71
        ],
        [
         "Portuguese - Brazil",
         6719,
         12.15
        ],
        [
         "Korean",
         6580,
         11.9
        ]
       ],
       "datasetInfos": [],
       "dbfsResultPath": null,
       "isJsonSchema": true,
       "metadata": {},
       "overflow": false,
       "plotOptions": {
        "customPlotOptions": {},
        "displayType": "table",
        "pivotAggregation": null,
        "pivotColumns": null,
        "xColumns": null,
        "yColumns": null
       },
       "removedWidgets": [],
       "schema": [
        {
         "metadata": "{}",
         "name": "language",
         "type": "\"string\""
        },
        {
         "metadata": "{}",
         "name": "id_count",
         "type": "\"long\""
        },
        {
         "metadata": "{}",
         "name": "percentage",
         "type": "\"double\""
        }
       ],
       "type": "table"
      }
     },
     "output_type": "display_data"
    },
    {
     "output_type": "display_data",
     "data": {
      "text/plain": [
       "Databricks visualization. Run in Databricks to view."
      ]
     },
     "metadata": {
      "application/vnd.databricks.v1.subcommand+json": {
       "baseErrorDetails": null,
       "bindings": {},
       "collapsed": false,
       "command": "%python\n__backend_agg_display_orig = display\n__backend_agg_dfs = []\ndef __backend_agg_display_new(df):\n    __backend_agg_df_modules = [\"pandas.core.frame\", \"databricks.koalas.frame\", \"pyspark.sql.dataframe\", \"pyspark.pandas.frame\", \"pyspark.sql.connect.dataframe\"]\n    if (type(df).__module__ in __backend_agg_df_modules and type(df).__name__ == 'DataFrame') or isinstance(df, list):\n        __backend_agg_dfs.append(df)\n\ndisplay = __backend_agg_display_new\n\ndef __backend_agg_user_code_fn():\n    import base64\n    exec(base64.standard_b64decode(\"Z2FtZXNfY291bnRfYnlfbGFuZ3VhZ2VfZHRmID0gc3RlYW1fZ2FtZV9kdGZfbGV2ZWwwLnNlbGVjdCgnaWQnLCdsYW5ndWFnZXMnKS53aXRoQ29sdW1uKCdsYW5ndWFnZXNfc3BsaXRlZCcsIEYuZXhwcigidHJhbnNmb3JtKHNwbGl0KGxhbmd1YWdlcywnLCcpLHggLT4gdHJpbSh4KSkiKSlcCiAgICAud2l0aENvbHVtbignbGFuZ3VhZ2UnLEYuZXhwbG9kZSgnbGFuZ3VhZ2VzX3NwbGl0ZWQnKSlcCiAgICAgICAgLmdyb3VwQnkoJ2xhbmd1YWdlJykuYWdnKEYuY291bnQoJ2lkJykuYWxpYXMoJ2lkX2NvdW50JykpXAogICAgICAgIC5vcmRlckJ5KEYuZGVzYygnaWRfY291bnQnKSkubGltaXQoMTApCmRpc3BsYXkoZ2FtZXNfY291bnRfYnlfbGFuZ3VhZ2VfZHRmKQ==\").decode())\n\ntry:\n    # run user code\n    __backend_agg_user_code_fn()\n\n    #reset display function\n    display = __backend_agg_display_orig\n\n    if len(__backend_agg_dfs) > 0:\n        # create a temp view\n        if type(__backend_agg_dfs[0]).__module__ == \"databricks.koalas.frame\":\n            # koalas dataframe\n            __backend_agg_dfs[0].to_spark().createOrReplaceTempView(\"DatabricksView1943840\")\n        elif type(__backend_agg_dfs[0]).__module__ == \"pandas.core.frame\" or isinstance(__backend_agg_dfs[0], list):\n            # pandas dataframe\n            spark.createDataFrame(__backend_agg_dfs[0]).createOrReplaceTempView(\"DatabricksView1943840\")\n        else:\n            __backend_agg_dfs[0].createOrReplaceTempView(\"DatabricksView1943840\")\n        #run backend agg\n        display(spark.sql(\"\"\"WITH q AS (select * from DatabricksView1943840) SELECT `language`,SUM(`id_count`) `column_dacfc151458` FROM q GROUP BY `language`\"\"\"))\n    else:\n        displayHTML(\"dataframe no longer exists. If you're using dataframe.display(), use display(dataframe) instead.\")\n\n\nfinally:\n    spark.sql(\"drop view if exists DatabricksView1943840\")\n    display = __backend_agg_display_orig\n    del __backend_agg_display_new\n    del __backend_agg_display_orig\n    del __backend_agg_dfs\n    del __backend_agg_user_code_fn\n\n",
       "commandTitle": "Visualization 1",
       "commandType": "auto",
       "commandVersion": 0,
       "commentThread": [],
       "commentsVisible": false,
       "contentSha256Hex": null,
       "customPlotOptions": {
        "redashChart": [
         {
          "key": "type",
          "value": "CHART"
         },
         {
          "key": "options",
          "value": {
           "alignYAxesAtZero": true,
           "coefficient": 1,
           "columnConfigurationMap": {
            "x": {
             "column": "language",
             "id": "column_dacfc151457"
            },
            "y": [
             {
              "column": "percentage",
              "id": "column_dacfc151458",
              "transform": "SUM"
             }
            ]
           },
           "dateTimeFormat": "DD/MM/YYYY HH:mm",
           "direction": {
            "type": "counterclockwise"
           },
           "error_y": {
            "type": "data",
            "visible": true
           },
           "globalSeriesType": "column",
           "isAggregationOn": true,
           "legend": {
            "traceorder": "normal"
           },
           "missingValuesAsZero": true,
           "numberFormat": "0,0.[00000]",
           "percentFormat": "0[.]00%",
           "reverseX": false,
           "series": {
            "error_y": {
             "type": "data",
             "visible": true
            },
            "percentValues": false,
            "stacking": null
           },
           "seriesOptions": {
            "column_dacfc151458": {
             "color": "#919191",
             "name": "id_count",
             "type": "column",
             "yAxis": 0
            }
           },
           "showDataLabels": false,
           "sizemode": "diameter",
           "sortX": false,
           "sortY": true,
           "swappedAxes": true,
           "textFormat": "",
           "useAggregationsUi": true,
           "valuesOptions": {},
           "version": 2,
           "xAxis": {
            "labels": {
             "enabled": true
            },
            "type": "-"
           },
           "yAxis": [
            {
             "type": "-"
            },
            {
             "opposite": true,
             "type": "-"
            }
           ]
          }
         }
        ]
       },
       "datasetPreviewNameToCmdIdMap": {},
       "diffDeletes": [],
       "diffInserts": [],
       "displayType": "redashChart",
       "error": null,
       "errorDetails": null,
       "errorSummary": null,
       "errorTraceType": null,
       "finishTime": 0,
       "globalVars": {},
       "guid": "",
       "height": "auto",
       "hideCommandCode": false,
       "hideCommandResult": false,
       "iPythonMetadata": null,
       "inputWidgets": {},
       "isLockedInExamMode": false,
       "latestAssumeRoleInfo": null,
       "latestUser": "a user",
       "latestUserId": null,
       "listResultMetadata": null,
       "metadata": {},
       "nuid": "d8550c4d-9dd4-4344-9864-98fb96dde885",
       "origId": 0,
       "parentHierarchy": [],
       "pivotAggregation": null,
       "pivotColumns": null,
       "position": 20.9365234375,
       "resultDbfsErrorMessage": null,
       "resultDbfsStatus": "INLINED_IN_TREE",
       "results": null,
       "showCommandTitle": false,
       "startTime": 0,
       "state": "input",
       "streamStates": {},
       "subcommandOptions": {
        "queryPlan": {
         "groups": [
          {
           "column": "language",
           "type": "column"
          }
         ],
         "selects": [
          {
           "column": "language",
           "type": "column"
          },
          {
           "alias": "column_dacfc151458",
           "args": [
            {
             "column": "percentage",
             "type": "column"
            }
           ],
           "function": "SUM",
           "type": "function"
          }
         ]
        }
       },
       "submitTime": 0,
       "subtype": "tableResultSubCmd.visualization",
       "tableResultIndex": 0,
       "tableResultSettingsMap": {},
       "useConsistentColors": false,
       "version": "CommandV1",
       "width": "auto",
       "workflows": [],
       "xColumns": null,
       "yColumns": null
      }
     },
     "output_type": "display_data"
    }
   ],
   "source": [
    "games_count_by_language_dtf = steam_game_dtf_level0.select('id','languages')\\\n",
    ".withColumn('languages_splited', F.expr(\"transform(split(languages,','),x -> trim(x))\"))\\\n",
    "    .withColumn('language',F.explode('languages_splited'))\\\n",
    "        .groupBy('language').agg(F.count('id').alias('id_count'))\\\n",
    "    .withColumn('percentage', F.round(((100*F.col('id_count'))/games_count),2))\\\n",
    "        .orderBy(F.desc('percentage')).limit(10)\n",
    "display(games_count_by_language_dtf)"
   ]
  },
  {
   "cell_type": "markdown",
   "metadata": {
    "application/vnd.databricks.v1+cell": {
     "cellMetadata": {
      "byteLimit": 2048000,
      "rowLimit": 10000
     },
     "inputWidgets": {},
     "nuid": "5fe72ee3-6992-4496-aa97-69820635e8e9",
     "showTitle": false,
     "tableResultSettingsMap": {},
     "title": ""
    }
   },
   "source": [
    "### Are there many games prohibited for children under 16/18 ? ###"
   ]
  },
  {
   "cell_type": "code",
   "execution_count": 0,
   "metadata": {
    "application/vnd.databricks.v1+cell": {
     "cellMetadata": {
      "byteLimit": 2048000,
      "rowLimit": 10000
     },
     "inputWidgets": {},
     "nuid": "5ab8e5b5-3ff9-4fb0-9788-3a703fdf576f",
     "showTitle": false,
     "tableResultSettingsMap": {},
     "title": ""
    }
   },
   "outputs": [
    {
     "output_type": "stream",
     "name": "stdout",
     "output_type": "stream",
     "text": [
      "Percentage of games prohibited for children under 16/18 years :  0.53 %\n"
     ]
    }
   ],
   "source": [
    "games_with_age_limit_count = steam_game_dtf_level0.select('id','required_age').withColumn('required_age',F.col('required_age').cast(IntegerType()))\\\n",
    "    .filter(F.col('required_age').between(16,18)).count()\n",
    "print('Percentage of games prohibited for children under 16/18 years : ',format_2_decimals(games_with_age_limit_count*100/games_count), '%')"
   ]
  },
  {
   "cell_type": "markdown",
   "metadata": {
    "application/vnd.databricks.v1+cell": {
     "cellMetadata": {
      "byteLimit": 2048000,
      "rowLimit": 10000
     },
     "inputWidgets": {},
     "nuid": "93df2f7a-d8c7-4adb-9aeb-42dc8d55404e",
     "showTitle": false,
     "tableResultSettingsMap": {},
     "title": ""
    }
   },
   "source": [
    "## Genres analysis ##"
   ]
  },
  {
   "cell_type": "markdown",
   "metadata": {
    "application/vnd.databricks.v1+cell": {
     "cellMetadata": {
      "byteLimit": 2048000,
      "rowLimit": 10000
     },
     "inputWidgets": {},
     "nuid": "13942bbf-15d8-48de-8d9f-d316d8beccce",
     "showTitle": false,
     "tableResultSettingsMap": {},
     "title": ""
    }
   },
   "source": [
    "### What are the most represented genres ? ###"
   ]
  },
  {
   "cell_type": "code",
   "execution_count": 0,
   "metadata": {
    "application/vnd.databricks.v1+cell": {
     "cellMetadata": {
      "byteLimit": 2048000,
      "rowLimit": 10000
     },
     "inputWidgets": {},
     "nuid": "e311d1ff-a7ac-4ca8-965c-ac2798bb086d",
     "showTitle": false,
     "tableResultSettingsMap": {},
     "title": ""
    }
   },
   "outputs": [
    {
     "output_type": "stream",
     "name": "stdout",
     "output_type": "stream",
     "text": [
      "+-------------+--------+\n|genre_splited|id_count|\n+-------------+--------+\n|        Indie|   39547|\n|       Action|   23657|\n|       Casual|   21999|\n|    Adventure|   21363|\n|     Strategy|   10859|\n|   Simulation|   10800|\n|          RPG|    9511|\n| Early Access|    6130|\n| Free to Play|    3389|\n|       Sports|    2656|\n+-------------+--------+\n\n"
     ]
    }
   ],
   "source": [
    "from pyspark.sql.functions import split, trim\n",
    "\n",
    "games_genre_split_df = steam_game_dtf_level0.withColumn('genre_splited', F.expr(\"transform(split(genre,','),x -> trim(x))\"))\\\n",
    "    .withColumn('genre_splited',F.explode('genre_splited')).drop(F.col('genre'))\n",
    "games_genre_split_df.groupBy('genre_splited').agg(F.count('id').alias('id_count')\\\n",
    "                                                            ).orderBy(F.desc('id_count')).limit(10).show()"
   ]
  },
  {
   "cell_type": "markdown",
   "metadata": {
    "application/vnd.databricks.v1+cell": {
     "cellMetadata": {
      "byteLimit": 2048000,
      "rowLimit": 10000
     },
     "inputWidgets": {},
     "nuid": "97dafa59-f408-4add-8757-e590dd6f561e",
     "showTitle": false,
     "tableResultSettingsMap": {},
     "title": ""
    }
   },
   "source": [
    "### Are there any genres that have a better positive/negative review ratio? ###"
   ]
  },
  {
   "cell_type": "markdown",
   "metadata": {
    "application/vnd.databricks.v1+cell": {
     "cellMetadata": {
      "byteLimit": 2048000,
      "rowLimit": 10000
     },
     "inputWidgets": {},
     "nuid": "33290862-eaa6-48e7-8f32-53a7d96aaebd",
     "showTitle": false,
     "tableResultSettingsMap": {},
     "title": ""
    }
   },
   "source": [
    "#### Top 10 genres in term of average positive rate ####"
   ]
  },
  {
   "cell_type": "code",
   "execution_count": 0,
   "metadata": {
    "application/vnd.databricks.v1+cell": {
     "cellMetadata": {
      "byteLimit": 2048000,
      "rowLimit": 10000
     },
     "inputWidgets": {},
     "nuid": "c970ea17-e4f1-4ab7-bc11-89740744f579",
     "showTitle": false,
     "tableResultSettingsMap": {},
     "title": ""
    }
   },
   "outputs": [
    {
     "output_type": "stream",
     "name": "stdout",
     "output_type": "stream",
     "text": [
      "+--------------------+------------------+--------------------+\n|       genre_splited|mean_positive_rate|sdtdev_positive_rate|\n+--------------------+------------------+--------------------+\n|           Adventure|              0.74|                0.24|\n|    Game Development|              0.74|                0.26|\n|              Casual|              0.74|                0.25|\n|               Indie|              0.74|                0.24|\n|              Action|              0.73|                0.25|\n|                 RPG|              0.73|                0.23|\n|      Web Publishing|              0.72|                0.23|\n|          Accounting|              0.72|                0.25|\n|Design & Illustra...|              0.72|                0.24|\n|            Strategy|              0.72|                0.24|\n+--------------------+------------------+--------------------+\n\n"
     ]
    }
   ],
   "source": [
    "games_genre_split_df.groupBy('genre_splited').agg(F.round(F.mean('positive_rate'),2).alias('mean_positive_rate')\\\n",
    "                            , F.round(F.stddev('positive_rate'),2).alias('sdtdev_positive_rate')\\\n",
    "                                                            ).orderBy(F.desc('mean_positive_rate')).limit(10).show()"
   ]
  },
  {
   "cell_type": "markdown",
   "metadata": {
    "application/vnd.databricks.v1+cell": {
     "cellMetadata": {
      "byteLimit": 2048000,
      "rowLimit": 10000
     },
     "inputWidgets": {},
     "nuid": "0d54aa15-24ee-45b4-87b0-f4fd4e7035ad",
     "showTitle": false,
     "tableResultSettingsMap": {},
     "title": ""
    }
   },
   "source": [
    "### Do some publishers have favorite genres ? ###"
   ]
  },
  {
   "cell_type": "markdown",
   "metadata": {
    "application/vnd.databricks.v1+cell": {
     "cellMetadata": {
      "byteLimit": 2048000,
      "rowLimit": 10000
     },
     "inputWidgets": {},
     "nuid": "75a8cdf5-9bbc-44be-a4c9-46ad8a2ffdb6",
     "showTitle": false,
     "tableResultSettingsMap": {},
     "title": ""
    }
   },
   "source": [
    "#### Plot number of distinct genres covered by supplier ####"
   ]
  },
  {
   "cell_type": "markdown",
   "metadata": {
    "application/vnd.databricks.v1+cell": {
     "cellMetadata": {
      "byteLimit": 2048000,
      "rowLimit": 10000
     },
     "inputWidgets": {},
     "nuid": "cfd42f8f-008d-4143-8fb8-a5e16422471d",
     "showTitle": false,
     "tableResultSettingsMap": {},
     "title": ""
    }
   },
   "source": [
    "nb_genres :  the number of distinct genres by publisher\n",
    "\n",
    "nb_publisher : number of (distinct) publishers with (exactly) nb_genres"
   ]
  },
  {
   "cell_type": "code",
   "execution_count": 0,
   "metadata": {
    "application/vnd.databricks.v1+cell": {
     "cellMetadata": {
      "byteLimit": 2048000,
      "rowLimit": 10000
     },
     "inputWidgets": {},
     "nuid": "9acb68b8-5a50-4435-88ef-d4c4294cd2c6",
     "showTitle": false,
     "tableResultSettingsMap": {},
     "title": ""
    }
   },
   "outputs": [],
   "source": [
    "nb_publishers_by_genres_count = games_genre_split_df.groupBy('publisher').agg(F.count_distinct('genre_splited').alias(\"nb_genres\"))\\\n",
    "    .groupBy('nb_genres').agg(F.count('publisher').alias('nb_publishers'))\\\n",
    "    .orderBy(F.asc('nb_genres'))"
   ]
  },
  {
   "cell_type": "markdown",
   "metadata": {
    "application/vnd.databricks.v1+cell": {
     "cellMetadata": {
      "byteLimit": 2048000,
      "rowLimit": 10000
     },
     "inputWidgets": {},
     "nuid": "6c638f4d-1d1c-4118-ba37-120c54e23895",
     "showTitle": false,
     "tableResultSettingsMap": {},
     "title": ""
    }
   },
   "source": [
    "**As we can see below** \n",
    "- 90% of publishers have at most 5 genres (1 or 2 or 3 or 4 or 5)\n",
    "- publishers with games covering a single genre represent 9.7%"
   ]
  },
  {
   "cell_type": "code",
   "execution_count": 0,
   "metadata": {
    "application/vnd.databricks.v1+cell": {
     "cellMetadata": {
      "byteLimit": 2048000,
      "rowLimit": 10000
     },
     "inputWidgets": {},
     "nuid": "5c11c722-b509-4956-afa7-8f7e72a6f8b9",
     "showTitle": false,
     "tableResultSettingsMap": {},
     "title": ""
    }
   },
   "outputs": [
    {
     "output_type": "stream",
     "name": "stdout",
     "output_type": "stream",
     "text": [
      "number of publishers :  29914\n+---------+-------------+--------------+\n|nb_genres|nb_publishers|cumulated_perc|\n+---------+-------------+--------------+\n|        1|         2899|          9.69|\n|        2|         6759|         32.29|\n|        3|         8593|         61.01|\n|        4|         5563|         79.61|\n|        5|         3118|         90.03|\n|        6|         1545|          95.2|\n|        7|          752|         97.71|\n|        8|          376|         98.97|\n|        9|          150|         99.47|\n|       10|           83|         99.75|\n|       11|           40|         99.88|\n|       12|           22|         99.95|\n|       13|            4|         99.97|\n|       14|            3|         99.98|\n|       15|            2|         99.98|\n|       16|            3|         99.99|\n|       17|            1|         100.0|\n|       19|            1|         100.0|\n+---------+-------------+--------------+\n\n"
     ]
    }
   ],
   "source": [
    "from pyspark.sql import Window\n",
    "\n",
    "total_publishers_count = nb_publishers_by_genres_count.agg(F.sum('nb_publishers')).collect()[0][0]\n",
    "print('number of publishers : ',total_publishers_count)\n",
    "nb_publishers_by_genres_count.withColumn('cumulated_perc',\\\n",
    "                                           F.round((100*F.sum('nb_publishers').over(Window.orderBy('nb_genres'))/total_publishers_count),2)).limit(20).show()\n"
   ]
  },
  {
   "cell_type": "markdown",
   "metadata": {
    "application/vnd.databricks.v1+cell": {
     "cellMetadata": {
      "byteLimit": 2048000,
      "rowLimit": 10000
     },
     "inputWidgets": {},
     "nuid": "693c25d7-ae35-4c92-914a-45b472e4ae09",
     "showTitle": false,
     "tableResultSettingsMap": {},
     "title": ""
    }
   },
   "source": [
    "#### Compute games breakdown by publisher and genre  ####"
   ]
  },
  {
   "cell_type": "code",
   "execution_count": 0,
   "metadata": {
    "application/vnd.databricks.v1+cell": {
     "cellMetadata": {
      "byteLimit": 2048000,
      "rowLimit": 10000
     },
     "inputWidgets": {},
     "nuid": "0122b972-b663-4de5-b0c8-42b4de4d7e14",
     "showTitle": false,
     "tableResultSettingsMap": {},
     "title": ""
    }
   },
   "outputs": [],
   "source": [
    "from pyspark.sql import Window\n",
    "\n",
    "publisher_partition = Window.partitionBy('publisher')\n",
    "\n",
    "favourites_genres_by_publisher_df = games_genre_split_df.groupBy('publisher', 'genre_splited').agg(F.count('id').alias(\"nb_games\"))\\\n",
    "    .withColumn('percentage', 100*F.round(F.col('nb_games')/F.sum('nb_games').over(publisher_partition),2))\\\n",
    "        .withColumn('nb_genres', F.count(F.col('nb_games')).over(publisher_partition))"
   ]
  },
  {
   "cell_type": "markdown",
   "metadata": {
    "application/vnd.databricks.v1+cell": {
     "cellMetadata": {
      "byteLimit": 2048000,
      "rowLimit": 10000
     },
     "inputWidgets": {},
     "nuid": "3827ccfb-133e-46aa-a4a0-3193ea993f19",
     "showTitle": false,
     "tableResultSettingsMap": {},
     "title": ""
    }
   },
   "source": [
    "#### Focus on publishers with several genres ####"
   ]
  },
  {
   "cell_type": "code",
   "execution_count": 0,
   "metadata": {
    "application/vnd.databricks.v1+cell": {
     "cellMetadata": {
      "byteLimit": 2048000,
      "rowLimit": 10000
     },
     "inputWidgets": {},
     "nuid": "59e047b9-3d6c-4a7c-a25e-418973df7ee4",
     "showTitle": false,
     "tableResultSettingsMap": {},
     "title": ""
    }
   },
   "outputs": [
    {
     "output_type": "stream",
     "name": "stdout",
     "output_type": "stream",
     "text": [
      "+--------------------+----------------+--------+----------+---------+---------------------+\n|           publisher|   genre_splited|nb_games|percentage|nb_genres|publisher_first_genre|\n+--------------------+----------------+--------+----------+---------+---------------------+\n|        HexWar Games|        Strategy|      42|      98.0|        2| HexWar Games (Str...|\n|     CITY CONNECTION|          Action|      18|      95.0|        2| CITY CONNECTION (...|\n|          grin robot|           Indie|      10|      91.0|        2|   grin robot (Indie)|\n|       Erbe Software|       Adventure|       8|      89.0|        2| Erbe Software (Ad...|\n|      BrainGoodGames|        Strategy|       7|      88.0|        2| BrainGoodGames (S...|\n|            Cakewalk|Audio Production|       7|      88.0|        2| Cakewalk (Audio P...|\n|     HeR Interactive|       Adventure|      29|      88.0|        5| HeR Interactive (...|\n|            OFF1C1AL|       Adventure|       6|      86.0|        2| OFF1C1AL (Adventure)|\n|Trend Redaktions-...|      Simulation|       6|      86.0|        2| Trend Redaktions-...|\n|     Notus Games Ltd|          Casual|      11|      85.0|        3| Notus Games Ltd (...|\n+--------------------+----------------+--------+----------+---------+---------------------+\n\n"
     ]
    }
   ],
   "source": [
    "#favourites_genres_by_publisher_df_top_10=\n",
    "\n",
    "window_pub_perc_desc = Window.partitionBy('publisher').orderBy(F.desc('percentage'))\n",
    "favourites_genres_by_publisher_df.filter(F.col('nb_genres') > 1)\\\n",
    "    .withColumn('rank', F.row_number().over(window_pub_perc_desc))\\\n",
    "    .withColumn('publisher_first_genre',F.concat(F.col('publisher'),F.lit(' ('),F.col('genre_splited'),F.lit(')')))\\\n",
    "    .filter(F.col('rank') == 1).drop('rank')\\\n",
    ".orderBy(F.desc('percentage')).limit(10).show()\n",
    "\n",
    "#"
   ]
  },
  {
   "cell_type": "markdown",
   "metadata": {
    "application/vnd.databricks.v1+cell": {
     "cellMetadata": {
      "byteLimit": 2048000,
      "rowLimit": 10000
     },
     "inputWidgets": {},
     "nuid": "67885972-3bcf-4457-b36c-7fed95c9a7b1",
     "showTitle": false,
     "tableResultSettingsMap": {},
     "title": ""
    }
   },
   "source": [
    "##### Focus on publishers with 2 genres #####"
   ]
  },
  {
   "cell_type": "code",
   "execution_count": 0,
   "metadata": {
    "application/vnd.databricks.v1+cell": {
     "cellMetadata": {
      "byteLimit": 2048000,
      "rowLimit": 10000
     },
     "inputWidgets": {},
     "nuid": "3e50030f-8169-4c16-9bb5-ee59452c108d",
     "showTitle": false,
     "tableResultSettingsMap": {},
     "title": ""
    }
   },
   "outputs": [
    {
     "output_type": "stream",
     "name": "stdout",
     "output_type": "stream",
     "text": [
      "+--------------------+----------------+--------+----------+---------+\n|           publisher|   genre_splited|nb_games|percentage|nb_genres|\n+--------------------+----------------+--------+----------+---------+\n|        HexWar Games|        Strategy|      42|      98.0|        2|\n|     CITY CONNECTION|          Action|      18|      95.0|        2|\n|          grin robot|           Indie|      10|      91.0|        2|\n|       Erbe Software|       Adventure|       8|      89.0|        2|\n|      BrainGoodGames|        Strategy|       7|      88.0|        2|\n|            Cakewalk|Audio Production|       7|      88.0|        2|\n|            OFF1C1AL|       Adventure|       6|      86.0|        2|\n|Trend Redaktions-...|      Simulation|       6|      86.0|        2|\n|            GC Games|          Casual|       5|      83.0|        2|\n|         Bliss Brain|      Simulation|       5|      83.0|        2|\n+--------------------+----------------+--------+----------+---------+\n\n"
     ]
    }
   ],
   "source": [
    "favourites_genres_by_publisher_df.filter(F.col('nb_genres') ==2).orderBy(F.desc('percentage')).limit(10).show()"
   ]
  },
  {
   "cell_type": "markdown",
   "metadata": {
    "application/vnd.databricks.v1+cell": {
     "cellMetadata": {
      "byteLimit": 2048000,
      "rowLimit": 10000
     },
     "inputWidgets": {},
     "nuid": "7f33580f-9d36-43cf-9141-783bc4b6bc75",
     "showTitle": false,
     "tableResultSettingsMap": {},
     "title": ""
    }
   },
   "source": [
    "##### Focus on publishers with 3 genres #####"
   ]
  },
  {
   "cell_type": "code",
   "execution_count": 0,
   "metadata": {
    "application/vnd.databricks.v1+cell": {
     "cellMetadata": {
      "byteLimit": 2048000,
      "rowLimit": 10000
     },
     "inputWidgets": {},
     "nuid": "f05291b5-e550-4c8b-9d9f-cd23c01848b5",
     "showTitle": false,
     "tableResultSettingsMap": {},
     "title": ""
    }
   },
   "outputs": [
    {
     "output_type": "stream",
     "name": "stdout",
     "output_type": "stream",
     "text": [
      "+--------------------+-------------+--------+----------+---------+\n|           publisher|genre_splited|nb_games|percentage|nb_genres|\n+--------------------+-------------+--------+----------+---------+\n|     Notus Games Ltd|       Casual|      11|      85.0|        3|\n| Ziggurat, 612 Games|       Action|      11|      79.0|        3|\n|GSC World Publishing|     Strategy|       7|      78.0|        3|\n|              Fewjix|        Indie|       6|      75.0|        3|\n|    ShortStackStudio|       Casual|       6|      75.0|        3|\n|        Sigyaad Team|       Casual|       9|      75.0|        3|\n|       Team Spikkeee|       Casual|       6|      75.0|        3|\n|         Remix Games|       Casual|       9|      75.0|        3|\n|Mens Sana Interac...|       Casual|      20|      74.0|        3|\n|PopCap Games, Inc...|       Casual|      11|      73.0|        3|\n+--------------------+-------------+--------+----------+---------+\n\n"
     ]
    }
   ],
   "source": [
    "favourites_genres_by_publisher_df.filter(F.col('nb_genres') ==3).orderBy(F.desc('percentage')).limit(10).show()"
   ]
  },
  {
   "cell_type": "code",
   "execution_count": 0,
   "metadata": {
    "application/vnd.databricks.v1+cell": {
     "cellMetadata": {
      "byteLimit": 2048000,
      "rowLimit": 10000
     },
     "inputWidgets": {},
     "nuid": "5897b957-c19c-49c0-853d-394acdb8b063",
     "showTitle": false,
     "tableResultSettingsMap": {},
     "title": ""
    }
   },
   "outputs": [
    {
     "output_type": "stream",
     "name": "stdout",
     "output_type": "stream",
     "text": [
      "+--------------+-------------+--------+----------+\n|     publisher|genre_splited|nb_games|percentage|\n+--------------+-------------+--------+----------+\n|Big Fish Games|         null|     833|   104.125|\n|Big Fish Games|       Casual|     418|     52.25|\n|Big Fish Games|    Adventure|     392|      49.0|\n|Big Fish Games|        Indie|       7|     0.875|\n|Big Fish Games|   Simulation|       7|     0.875|\n|Big Fish Games|     Strategy|       6|      0.75|\n|Big Fish Games|       Sports|       2|      0.25|\n|Big Fish Games|       Action|       1|     0.125|\n+--------------+-------------+--------+----------+\n\n"
     ]
    }
   ],
   "source": [
    "from pyspark.sql import Window\n",
    "\n",
    "favourites_genres_by_publisher_df = games_genre_split_df.rollup('publisher', 'genre_splited').agg(F.count('id').alias(\"nb_games\"))\\\n",
    "    .withColumn('percentage', F.col('nb_games')/F.count('nb_games').over(Window.partitionBy('publisher')))\n",
    "\n",
    "favourites_genres_by_publisher_df.filter(F.col('publisher')=='Big Fish Games').orderBy(F.desc('percentage')).limit(20).show()"
   ]
  },
  {
   "cell_type": "code",
   "execution_count": 0,
   "metadata": {
    "application/vnd.databricks.v1+cell": {
     "cellMetadata": {
      "byteLimit": 2048000,
      "rowLimit": 10000
     },
     "inputWidgets": {},
     "nuid": "36ebe20d-374d-4616-ac35-755a163db520",
     "showTitle": false,
     "tableResultSettingsMap": {},
     "title": ""
    }
   },
   "outputs": [
    {
     "output_type": "stream",
     "name": "stdout",
     "output_type": "stream",
     "text": [
      "Out[55]: 833"
     ]
    }
   ],
   "source": [
    "games_genre_split_df.filter(F.col('publisher')=='Big Fish Games').count()"
   ]
  },
  {
   "cell_type": "markdown",
   "metadata": {
    "application/vnd.databricks.v1+cell": {
     "cellMetadata": {
      "byteLimit": 2048000,
      "rowLimit": 10000
     },
     "inputWidgets": {},
     "nuid": "1c7f272e-890b-4751-acb9-e24a3796bd9c",
     "showTitle": false,
     "tableResultSettingsMap": {},
     "title": ""
    }
   },
   "source": [
    "### What are the most lucrative genres ? ###"
   ]
  },
  {
   "cell_type": "markdown",
   "metadata": {
    "application/vnd.databricks.v1+cell": {
     "cellMetadata": {
      "byteLimit": 2048000,
      "rowLimit": 10000
     },
     "inputWidgets": {},
     "nuid": "d0cc8af7-ebf6-49d2-89e1-6b9b1022fc50",
     "showTitle": false,
     "tableResultSettingsMap": {},
     "title": ""
    }
   },
   "source": [
    "We consider the average income by genre. average_income column is defined upstream"
   ]
  },
  {
   "cell_type": "code",
   "execution_count": 0,
   "metadata": {
    "application/vnd.databricks.v1+cell": {
     "cellMetadata": {
      "byteLimit": 2048000,
      "rowLimit": 10000
     },
     "inputWidgets": {},
     "nuid": "9d6de151-bfa4-4564-bb5a-9e2998acf218",
     "showTitle": false,
     "tableResultSettingsMap": {},
     "title": ""
    }
   },
   "outputs": [
    {
     "output_type": "stream",
     "name": "stdout",
     "output_type": "stream",
     "text": [
      "+--------------------+--------------+----------+\n|       genre_splited|average_income|avg_owners|\n+--------------------+--------------+----------+\n|                 RPG|   35218514.47| 182642.73|\n|            Strategy|   31234072.48| 149803.39|\n|          Simulation|   29725752.83| 121870.83|\n|      Web Publishing|   29484734.29|  60168.54|\n|              Action|   28092124.84| 199940.61|\n|              Racing|   27245144.86|   87456.8|\n|    Game Development|   26582515.72|  33050.31|\n|           Adventure|   26080254.93| 122863.83|\n|   Software Training|   23725617.28|  36234.57|\n|Animation & Modeling|   23383821.49| 163354.23|\n+--------------------+--------------+----------+\n\n"
     ]
    }
   ],
   "source": [
    "#most_lucrative_genres = \n",
    "games_genre_split_df.groupBy('genre_splited').agg(F.mean(F.col('average_income')).cast(DecimalType(20,2)).alias('average_income')\\\n",
    "              , F.round(F.mean(F.col('avg_owners')),2).alias('avg_owners')\\\n",
    "              ).orderBy(F.desc('average_income')).limit(10).show()\n",
    "#display(most_lucrative_genres)"
   ]
  },
  {
   "cell_type": "code",
   "execution_count": 0,
   "metadata": {
    "application/vnd.databricks.v1+cell": {
     "cellMetadata": {
      "byteLimit": 2048000,
      "rowLimit": 10000
     },
     "inputWidgets": {},
     "nuid": "04f3fbed-69a8-4ba1-83d5-2b49d51ee08e",
     "showTitle": false,
     "tableResultSettingsMap": {},
     "title": ""
    }
   },
   "outputs": [
    {
     "output_type": "stream",
     "name": "stdout",
     "output_type": "stream",
     "text": [
      "+-------+--------------------+----------+-------------+-----+\n|     id|                name| publisher|genre_splited|price|\n+-------+--------------------+----------+-------------+-----+\n|1200520|Ascent Free-Roami...|Fury Games|       Action|99900|\n+-------+--------------------+----------+-------------+-----+\n\n"
     ]
    }
   ],
   "source": [
    "games_genre_split_df.filter(F.col('id')==outlier_id).select('id', 'name', 'publisher', 'genre_splited', 'price').limit(10).show()"
   ]
  },
  {
   "cell_type": "markdown",
   "metadata": {
    "application/vnd.databricks.v1+cell": {
     "cellMetadata": {
      "byteLimit": 2048000,
      "rowLimit": 10000
     },
     "inputWidgets": {},
     "nuid": "9fb302d9-a4d8-4f68-a22c-e7175366fe36",
     "showTitle": false,
     "tableResultSettingsMap": {},
     "title": ""
    }
   },
   "source": [
    "## Platform analysis ##"
   ]
  },
  {
   "cell_type": "markdown",
   "metadata": {
    "application/vnd.databricks.v1+cell": {
     "cellMetadata": {
      "byteLimit": 2048000,
      "rowLimit": 10000
     },
     "inputWidgets": {},
     "nuid": "54e892bb-f5c0-413f-95b6-fa2a68f098bf",
     "showTitle": false,
     "tableResultSettingsMap": {},
     "title": ""
    }
   },
   "source": [
    "### Are most games available on Windows/Mac/Linux instead ? ###"
   ]
  },
  {
   "cell_type": "markdown",
   "metadata": {
    "application/vnd.databricks.v1+cell": {
     "cellMetadata": {
      "byteLimit": 2048000,
      "rowLimit": 10000
     },
     "inputWidgets": {},
     "nuid": "082770df-2be9-45af-a167-2485aec581a9",
     "showTitle": false,
     "tableResultSettingsMap": {},
     "title": ""
    }
   },
   "source": [
    "Join steam_game_dtf_level0 DataFrame with data's platforms fields (on id) to receive steam_game_dtf_level0 pre processing"
   ]
  },
  {
   "cell_type": "code",
   "execution_count": 0,
   "metadata": {
    "application/vnd.databricks.v1+cell": {
     "cellMetadata": {
      "byteLimit": 2048000,
      "rowLimit": 10000
     },
     "inputWidgets": {},
     "nuid": "3f9d7cd0-c223-4e92-8c74-57f9f1b87d28",
     "showTitle": false,
     "tableResultSettingsMap": {},
     "title": ""
    }
   },
   "outputs": [
    {
     "output_type": "stream",
     "name": "stdout",
     "output_type": "stream",
     "text": [
      "+-------+--------------+-----+--------------------+----------------+--------------+------------+\n|     id|          name|price|           publisher|platform_windows|platform_linux|platform_mac|\n+-------+--------------+-----+--------------------+----------------+--------------+------------+\n|     10|Counter-Strike|  999|               Valve|            true|          true|        true|\n|1000000|     ASCENXION|  999|PsychoFlux Entert...|            true|         false|       false|\n+-------+--------------+-----+--------------------+----------------+--------------+------------+\n\n"
     ]
    }
   ],
   "source": [
    "platform_df = steam_game_dtf_level0.join(((steam_game_dtf.withColumn('platform_windows', F.col('data.platforms').getField('windows'))\\\n",
    "    .withColumn('platform_linux', F.col('data.platforms').getField('linux'))\\\n",
    "    .withColumn('platform_mac', F.col('data.platforms').getField('mac'))\\\n",
    "    .select('id','platform_windows','platform_linux','platform_mac')).alias('platform_df')), on='id', how=\"inner\")\n",
    "    #Check\n",
    "platform_df.select('id', 'name', 'price', 'publisher', 'platform_windows','platform_linux','platform_mac').limit(2).show()"
   ]
  },
  {
   "cell_type": "markdown",
   "metadata": {
    "application/vnd.databricks.v1+cell": {
     "cellMetadata": {
      "byteLimit": 2048000,
      "rowLimit": 10000
     },
     "inputWidgets": {},
     "nuid": "85fbf867-b8aa-4e43-bb44-00c1da62e5e0",
     "showTitle": false,
     "tableResultSettingsMap": {},
     "title": ""
    }
   },
   "source": [
    "As we can see below 100% of the games are available on windows, but 23% on Mac and 15% on Linux"
   ]
  },
  {
   "cell_type": "code",
   "execution_count": 0,
   "metadata": {
    "application/vnd.databricks.v1+cell": {
     "cellMetadata": {
      "byteLimit": 2048000,
      "rowLimit": 10000
     },
     "inputWidgets": {},
     "nuid": "e78d9564-c587-4692-9225-fe8ff10d31da",
     "showTitle": false,
     "tableResultSettingsMap": {},
     "title": ""
    }
   },
   "outputs": [
    {
     "output_type": "stream",
     "name": "stdout",
     "output_type": "stream",
     "text": [
      "+---------------------+-------------------+-----------------+\n|perc_windows_platform|perc_linux_platform|perc_mac_platform|\n+---------------------+-------------------+-----------------+\n|                  1.0|               0.15|             0.23|\n+---------------------+-------------------+-----------------+\n\n"
     ]
    }
   ],
   "source": [
    "row_count = platform_df.agg(F.count('id')).collect()[0][0]\n",
    "platform_df.select(\\\n",
    "    F.round((F.sum(F.when(F.col('platform_windows'),1).otherwise(0))/row_count),2).alias('perc_windows_platform')\\\n",
    "    ,F.round((F.sum(F.when(F.col('platform_linux'),1).otherwise(0))/row_count),2).alias('perc_linux_platform')\\\n",
    "    ,F.round((F.sum(F.when(F.col('platform_mac'),1).otherwise(0))/row_count),2).alias('perc_mac_platform')\\\n",
    ").show()"
   ]
  },
  {
   "cell_type": "markdown",
   "metadata": {
    "application/vnd.databricks.v1+cell": {
     "cellMetadata": {
      "byteLimit": 2048000,
      "rowLimit": 10000
     },
     "inputWidgets": {},
     "nuid": "5f39c87c-ddb4-4dcc-9743-ea766f74f9b7",
     "showTitle": false,
     "tableResultSettingsMap": {},
     "title": ""
    }
   },
   "source": [
    "### Do certain genres tend to be preferentially available on certain platforms ? ###"
   ]
  },
  {
   "cell_type": "code",
   "execution_count": 0,
   "metadata": {
    "application/vnd.databricks.v1+cell": {
     "cellMetadata": {
      "byteLimit": 2048000,
      "rowLimit": 10000
     },
     "inputWidgets": {},
     "nuid": "d002fded-b7a7-4514-b36e-c2423a9e3b8c",
     "showTitle": false,
     "tableResultSettingsMap": {},
     "title": ""
    }
   },
   "outputs": [],
   "source": [
    "games_plaform_genre_split_df = platform_df.filter(~is_empty_string(F.col('genre'))).withColumn('genre_splited', F.expr(\"transform(split(genre,','),x -> trim(x))\"))\\\n",
    "    .withColumn('genre_splited',F.explode('genre_splited')).drop(F.col('genre'))\n"
   ]
  },
  {
   "cell_type": "code",
   "execution_count": 0,
   "metadata": {
    "application/vnd.databricks.v1+cell": {
     "cellMetadata": {
      "byteLimit": 2048000,
      "rowLimit": 10000
     },
     "inputWidgets": {},
     "nuid": "c5ae3526-b467-47f4-9d8f-72f8067aa49e",
     "showTitle": false,
     "tableResultSettingsMap": {},
     "title": ""
    }
   },
   "outputs": [],
   "source": [
    "partion_by_genre_w = Window.partitionBy('genre_splited')\n",
    "\n",
    "platform_perc_columns = ['perc_windows_platform','perc_linux_platform','perc_mac_platform']\n",
    "\n",
    "first_platform_by_genre_df = games_plaform_genre_split_df.groupBy('genre_splited').agg( (F.sum(F.when(F.col('platform_windows'),1).otherwise(0))).alias('sum_windows_platform')\\\n",
    "    ,(F.sum(F.when(F.col('platform_linux'),1).otherwise(0))).alias('sum_linux_platform')\\\n",
    "    ,(F.sum(F.when(F.col('platform_mac'),1).otherwise(0))).alias('sum_mac_platform')\\\n",
    "    ).withColumn('sum_platforms', F.col('sum_windows_platform') + F.col('sum_linux_platform') + F.col('sum_mac_platform'))\\\n",
    "        .withColumn(platform_perc_columns[0],F.round(100*F.col('sum_windows_platform')/F.col('sum_platforms'),2))\\\n",
    "        .withColumn(platform_perc_columns[1],F.round(100*F.col('sum_linux_platform')/F.col('sum_platforms'),2))\\\n",
    "        .withColumn(platform_perc_columns[2],F.round(100*F.col('sum_mac_platform')/F.col('sum_platforms'),2))\\\n",
    "        .drop(F.col('sum_windows_platform'), F.col('sum_linux_platform'), F.col('sum_mac_platform'), F.col('sum_platforms'))\\\n",
    "        .withColumn(\"first_platform\",\\\n",
    "            F.when(F.col(\"perc_windows_platform\") == F.greatest(*platform_perc_columns), F.lit(\"Windows\"))\n",
    "         .when(F.col(\"perc_linux_platform\") == F.greatest(*platform_perc_columns), F.lit(\"Linux\"))\n",
    "         .otherwise(F.lit(\"Mac\")))\n"
   ]
  },
  {
   "cell_type": "markdown",
   "metadata": {
    "application/vnd.databricks.v1+cell": {
     "cellMetadata": {},
     "inputWidgets": {},
     "nuid": "68280aa3-2e33-49b6-bdf3-2eb0de8ca06f",
     "showTitle": false,
     "tableResultSettingsMap": {},
     "title": ""
    }
   },
   "source": [
    "#### As we can see below, first platform is always windows ####"
   ]
  },
  {
   "cell_type": "code",
   "execution_count": 0,
   "metadata": {
    "application/vnd.databricks.v1+cell": {
     "cellMetadata": {
      "byteLimit": 2048000,
      "rowLimit": 10000
     },
     "inputWidgets": {},
     "nuid": "bb94638e-1ffa-4e02-9568-b3d211ae3bfe",
     "showTitle": false,
     "tableResultSettingsMap": {},
     "title": ""
    }
   },
   "outputs": [
    {
     "output_type": "stream",
     "name": "stdout",
     "output_type": "stream",
     "text": [
      "+--------------+--------------------+\n|first_platform|count(genre_splited)|\n+--------------+--------------------+\n|       Windows|                  28|\n+--------------+--------------------+\n\n"
     ]
    }
   ],
   "source": [
    "first_platform_by_genre_df.groupBy(F.col('first_platform')).agg(F.count('genre_splited'))\\\n",
    "    .select('*').show()"
   ]
  },
  {
   "cell_type": "markdown",
   "metadata": {
    "application/vnd.databricks.v1+cell": {
     "cellMetadata": {},
     "inputWidgets": {},
     "nuid": "c2bebcf4-65f0-4e56-b794-a2c003055fa9",
     "showTitle": false,
     "tableResultSettingsMap": {},
     "title": ""
    }
   },
   "source": [
    "#### The most represented genres on Linux platform ####"
   ]
  },
  {
   "cell_type": "code",
   "execution_count": 0,
   "metadata": {
    "application/vnd.databricks.v1+cell": {
     "cellMetadata": {
      "byteLimit": 2048000,
      "rowLimit": 10000
     },
     "inputWidgets": {},
     "nuid": "bc052ee5-444c-4049-b41a-890669df40ae",
     "showTitle": false,
     "tableResultSettingsMap": {},
     "title": ""
    }
   },
   "outputs": [
    {
     "output_type": "display_data",
     "data": {
      "text/html": [
       "<style scoped>\n",
       "  .table-result-container {\n",
       "    max-height: 300px;\n",
       "    overflow: auto;\n",
       "  }\n",
       "  table, th, td {\n",
       "    border: 1px solid black;\n",
       "    border-collapse: collapse;\n",
       "  }\n",
       "  th, td {\n",
       "    padding: 5px;\n",
       "  }\n",
       "  th {\n",
       "    text-align: left;\n",
       "  }\n",
       "</style><div class='table-result-container'><table class='table-result'><thead style='background-color: white'><tr><th>genre_splited</th><th>perc_windows_platform</th><th>perc_linux_platform</th><th>perc_mac_platform</th><th>first_platform</th></tr></thead><tbody><tr><td>Game Development</td><td>64.63</td><td>14.23</td><td>21.14</td><td>Windows</td></tr><tr><td>Indie</td><td>70.16</td><td>12.3</td><td>17.53</td><td>Windows</td></tr><tr><td>Strategy</td><td>69.31</td><td>11.6</td><td>19.09</td><td>Windows</td></tr><tr><td>RPG</td><td>71.71</td><td>11.42</td><td>16.86</td><td>Windows</td></tr><tr><td>Nudity</td><td>72.58</td><td>11.29</td><td>16.13</td><td>Windows</td></tr></tbody></table></div>"
      ]
     },
     "metadata": {
      "application/vnd.databricks.v1+output": {
       "addedWidgets": {},
       "aggData": [],
       "aggError": "",
       "aggOverflow": false,
       "aggSchema": [],
       "aggSeriesLimitReached": false,
       "aggType": "",
       "arguments": {},
       "columnCustomDisplayInfos": {},
       "data": [
        [
         "Game Development",
         64.63,
         14.23,
         21.14,
         "Windows"
        ],
        [
         "Indie",
         70.16,
         12.3,
         17.53,
         "Windows"
        ],
        [
         "Strategy",
         69.31,
         11.6,
         19.09,
         "Windows"
        ],
        [
         "RPG",
         71.71,
         11.42,
         16.86,
         "Windows"
        ],
        [
         "Nudity",
         72.58,
         11.29,
         16.13,
         "Windows"
        ]
       ],
       "datasetInfos": [],
       "dbfsResultPath": null,
       "isJsonSchema": true,
       "metadata": {},
       "overflow": false,
       "plotOptions": {
        "customPlotOptions": {},
        "displayType": "table",
        "pivotAggregation": null,
        "pivotColumns": null,
        "xColumns": null,
        "yColumns": null
       },
       "removedWidgets": [],
       "schema": [
        {
         "metadata": "{}",
         "name": "genre_splited",
         "type": "\"string\""
        },
        {
         "metadata": "{}",
         "name": "perc_windows_platform",
         "type": "\"double\""
        },
        {
         "metadata": "{}",
         "name": "perc_linux_platform",
         "type": "\"double\""
        },
        {
         "metadata": "{}",
         "name": "perc_mac_platform",
         "type": "\"double\""
        },
        {
         "metadata": "{}",
         "name": "first_platform",
         "type": "\"string\""
        }
       ],
       "type": "table"
      }
     },
     "output_type": "display_data"
    },
    {
     "output_type": "display_data",
     "data": {
      "text/plain": [
       "Databricks visualization. Run in Databricks to view."
      ]
     },
     "metadata": {
      "application/vnd.databricks.v1.subcommand+json": {
       "baseErrorDetails": null,
       "bindings": {},
       "collapsed": false,
       "command": "top_10_linux_platform_by_genre_df = first_platform_by_genre_df\\\n    .select(\"genre_splited\", \"perc_windows_platform\", \"perc_linux_platform\", \"perc_mac_platform\", \"first_platform\")\\\n        .orderBy(F.desc(F.col('perc_linux_platform'))).limit(5)\ndisplay(top_10_linux_platform_by_genre_df)",
       "commandTitle": "Visualization 1",
       "commandType": "auto",
       "commandVersion": 0,
       "commentThread": [],
       "commentsVisible": false,
       "contentSha256Hex": null,
       "customPlotOptions": {
        "redashChart": [
         {
          "key": "type",
          "value": "WORD_CLOUD"
         },
         {
          "key": "options",
          "value": {
           "column": "genre_splited",
           "frequenciesColumn": "perc_linux_platform",
           "wordCountLimit": {
            "max": null,
            "min": null
           },
           "wordLengthLimit": {
            "max": null,
            "min": null
           }
          }
         }
        ]
       },
       "datasetPreviewNameToCmdIdMap": {},
       "diffDeletes": [],
       "diffInserts": [],
       "displayType": "redashChart",
       "error": null,
       "errorDetails": null,
       "errorSummary": null,
       "errorTraceType": null,
       "finishTime": 0,
       "globalVars": {},
       "guid": "",
       "height": "auto",
       "hideCommandCode": false,
       "hideCommandResult": false,
       "iPythonMetadata": null,
       "inputWidgets": {},
       "isLockedInExamMode": false,
       "latestAssumeRoleInfo": null,
       "latestUser": "a user",
       "latestUserId": null,
       "listResultMetadata": null,
       "metadata": {},
       "nuid": "5dc6ec1f-22fb-4a11-ae81-3b8cf7c65ae6",
       "origId": 0,
       "parentHierarchy": [],
       "pivotAggregation": null,
       "pivotColumns": null,
       "position": 43.25,
       "resultDbfsErrorMessage": null,
       "resultDbfsStatus": "INLINED_IN_TREE",
       "results": null,
       "showCommandTitle": false,
       "startTime": 0,
       "state": "input",
       "streamStates": {},
       "subcommandOptions": {},
       "submitTime": 0,
       "subtype": "tableResultSubCmd.visualization",
       "tableResultIndex": 0,
       "tableResultSettingsMap": {},
       "useConsistentColors": false,
       "version": "CommandV1",
       "width": "auto",
       "workflows": [],
       "xColumns": null,
       "yColumns": null
      }
     },
     "output_type": "display_data"
    }
   ],
   "source": [
    "top_10_linux_platform_by_genre_df = first_platform_by_genre_df\\\n",
    "    .select(\"genre_splited\", \"perc_windows_platform\", \"perc_linux_platform\", \"perc_mac_platform\", \"first_platform\")\\\n",
    "        .orderBy(F.desc(F.col('perc_linux_platform'))).limit(5)\n",
    "display(top_10_linux_platform_by_genre_df)"
   ]
  },
  {
   "cell_type": "markdown",
   "metadata": {
    "application/vnd.databricks.v1+cell": {
     "cellMetadata": {},
     "inputWidgets": {},
     "nuid": "bc718848-0d8b-4414-a1f6-1cea2b31aa12",
     "showTitle": false,
     "tableResultSettingsMap": {},
     "title": ""
    }
   },
   "source": [
    "The most represented genres on Mac platform"
   ]
  },
  {
   "cell_type": "code",
   "execution_count": 0,
   "metadata": {
    "application/vnd.databricks.v1+cell": {
     "cellMetadata": {
      "byteLimit": 2048000,
      "rowLimit": 10000
     },
     "inputWidgets": {},
     "nuid": "b4053346-fe80-4c03-818e-2ab9ef0156fd",
     "showTitle": false,
     "tableResultSettingsMap": {},
     "title": ""
    }
   },
   "outputs": [
    {
     "output_type": "display_data",
     "data": {
      "text/html": [
       "<style scoped>\n",
       "  .table-result-container {\n",
       "    max-height: 300px;\n",
       "    overflow: auto;\n",
       "  }\n",
       "  table, th, td {\n",
       "    border: 1px solid black;\n",
       "    border-collapse: collapse;\n",
       "  }\n",
       "  th, td {\n",
       "    padding: 5px;\n",
       "  }\n",
       "  th {\n",
       "    text-align: left;\n",
       "  }\n",
       "</style><div class='table-result-container'><table class='table-result'><thead style='background-color: white'><tr><th>genre_splited</th><th>perc_windows_platform</th><th>perc_linux_platform</th><th>perc_mac_platform</th><th>first_platform</th></tr></thead><tbody><tr><td>Game Development</td><td>64.63</td><td>14.23</td><td>21.14</td><td>Windows</td></tr><tr><td>Accounting</td><td>80.0</td><td>0.0</td><td>20.0</td><td>Windows</td></tr><tr><td>Strategy</td><td>69.31</td><td>11.6</td><td>19.09</td><td>Windows</td></tr><tr><td>Free to Play</td><td>72.03</td><td>10.04</td><td>17.93</td><td>Windows</td></tr><tr><td>Design & Illustration</td><td>72.4</td><td>9.68</td><td>17.92</td><td>Windows</td></tr></tbody></table></div>"
      ]
     },
     "metadata": {
      "application/vnd.databricks.v1+output": {
       "addedWidgets": {},
       "aggData": [],
       "aggError": "",
       "aggOverflow": false,
       "aggSchema": [],
       "aggSeriesLimitReached": false,
       "aggType": "",
       "arguments": {},
       "columnCustomDisplayInfos": {},
       "data": [
        [
         "Game Development",
         64.63,
         14.23,
         21.14,
         "Windows"
        ],
        [
         "Accounting",
         80.0,
         0.0,
         20.0,
         "Windows"
        ],
        [
         "Strategy",
         69.31,
         11.6,
         19.09,
         "Windows"
        ],
        [
         "Free to Play",
         72.03,
         10.04,
         17.93,
         "Windows"
        ],
        [
         "Design & Illustration",
         72.4,
         9.68,
         17.92,
         "Windows"
        ]
       ],
       "datasetInfos": [],
       "dbfsResultPath": null,
       "isJsonSchema": true,
       "metadata": {},
       "overflow": false,
       "plotOptions": {
        "customPlotOptions": {},
        "displayType": "table",
        "pivotAggregation": null,
        "pivotColumns": null,
        "xColumns": null,
        "yColumns": null
       },
       "removedWidgets": [],
       "schema": [
        {
         "metadata": "{}",
         "name": "genre_splited",
         "type": "\"string\""
        },
        {
         "metadata": "{}",
         "name": "perc_windows_platform",
         "type": "\"double\""
        },
        {
         "metadata": "{}",
         "name": "perc_linux_platform",
         "type": "\"double\""
        },
        {
         "metadata": "{}",
         "name": "perc_mac_platform",
         "type": "\"double\""
        },
        {
         "metadata": "{}",
         "name": "first_platform",
         "type": "\"string\""
        }
       ],
       "type": "table"
      }
     },
     "output_type": "display_data"
    },
    {
     "output_type": "display_data",
     "data": {
      "text/plain": [
       "Databricks visualization. Run in Databricks to view."
      ]
     },
     "metadata": {
      "application/vnd.databricks.v1.subcommand+json": {
       "baseErrorDetails": null,
       "bindings": {},
       "collapsed": false,
       "command": "top_10_mac_platform_by_genre_df = first_platform_by_genre_df\\\n    .select(\"genre_splited\", \"perc_windows_platform\", \"perc_linux_platform\", \"perc_mac_platform\", \"first_platform\")\\\n        .orderBy(F.desc(F.col('perc_mac_platform'))).limit(5)\ndisplay(top_10_mac_platform_by_genre_df)",
       "commandTitle": "Visualization 1",
       "commandType": "auto",
       "commandVersion": 0,
       "commentThread": [],
       "commentsVisible": false,
       "contentSha256Hex": null,
       "customPlotOptions": {
        "redashChart": [
         {
          "key": "type",
          "value": "WORD_CLOUD"
         },
         {
          "key": "options",
          "value": {
           "column": "genre_splited",
           "frequenciesColumn": "perc_mac_platform",
           "wordCountLimit": {
            "max": null,
            "min": null
           },
           "wordLengthLimit": {
            "max": null,
            "min": null
           }
          }
         }
        ]
       },
       "datasetPreviewNameToCmdIdMap": {},
       "diffDeletes": [],
       "diffInserts": [],
       "displayType": "redashChart",
       "error": null,
       "errorDetails": null,
       "errorSummary": null,
       "errorTraceType": null,
       "finishTime": 0,
       "globalVars": {},
       "guid": "",
       "height": "auto",
       "hideCommandCode": false,
       "hideCommandResult": false,
       "iPythonMetadata": null,
       "inputWidgets": {},
       "isLockedInExamMode": false,
       "latestAssumeRoleInfo": null,
       "latestUser": "a user",
       "latestUserId": null,
       "listResultMetadata": null,
       "metadata": {},
       "nuid": "b1b45e49-af71-41e5-93c1-635f462bb4d8",
       "origId": 0,
       "parentHierarchy": [],
       "pivotAggregation": null,
       "pivotColumns": null,
       "position": 43.4375,
       "resultDbfsErrorMessage": null,
       "resultDbfsStatus": "INLINED_IN_TREE",
       "results": null,
       "showCommandTitle": false,
       "startTime": 0,
       "state": "input",
       "streamStates": {},
       "subcommandOptions": {},
       "submitTime": 0,
       "subtype": "tableResultSubCmd.visualization",
       "tableResultIndex": 0,
       "tableResultSettingsMap": {},
       "useConsistentColors": false,
       "version": "CommandV1",
       "width": "auto",
       "workflows": [],
       "xColumns": null,
       "yColumns": null
      }
     },
     "output_type": "display_data"
    }
   ],
   "source": [
    "top_10_mac_platform_by_genre_df = first_platform_by_genre_df\\\n",
    "    .select(\"genre_splited\", \"perc_windows_platform\", \"perc_linux_platform\", \"perc_mac_platform\", \"first_platform\")\\\n",
    "        .orderBy(F.desc(F.col('perc_mac_platform'))).limit(5)\n",
    "display(top_10_mac_platform_by_genre_df)"
   ]
  },
  {
   "cell_type": "code",
   "execution_count": 0,
   "metadata": {
    "application/vnd.databricks.v1+cell": {
     "cellMetadata": {
      "byteLimit": 2048000,
      "rowLimit": 10000
     },
     "inputWidgets": {},
     "nuid": "0750e8b8-b982-4758-8532-e38dd3661b8f",
     "showTitle": false,
     "tableResultSettingsMap": {},
     "title": ""
    }
   },
   "outputs": [
    {
     "output_type": "stream",
     "name": "stdout",
     "output_type": "stream",
     "text": [
      "-RECORD 0-------------------------------------------------------------------------------------------------------------------------------------------------------------------------------------------------------------------------------------------------------------------------------------------------------------------------------------------------------------------------------\n first_platform | Windows                                                                                                                                                                                                                                                                                                                                                               \n genres         | [Education, Massively Multiplayer, Sexual Content, Adventure, Sports, Accounting, Audio Production, Video Production, Animation & Modeling, Racing, Gore, Design & Illustration, Software Training, Web Publishing, Photo Editing, Utilities, Violent, Game Development, Movie, Nudity, Early Access, Casual, Action, Strategy, Indie, Free to Play, RPG, Simulation] \n nb_genres      | 28                                                                                                                                                                                                                                                                                                                                                                    \n\n"
     ]
    }
   ],
   "source": [
    "result = (\n",
    "    first_platform_by_genre_df\n",
    "    .groupBy(\"first_platform\")\n",
    "    .agg(\n",
    "        F.collect_list(\"genre_splited\").alias(\"genres\"),\n",
    "        F.size(F.collect_list(\"genre_splited\")).alias(\"nb_genres\")\n",
    "    )\n",
    ")\n",
    "\n",
    "result.show(truncate=False, vertical=True)"
   ]
  }
 ],
 "metadata": {
  "application/vnd.databricks.v1+notebook": {
   "computePreferences": null,
   "dashboards": [],
   "environmentMetadata": {
    "base_environment": "",
    "environment_version": "1"
   },
   "inputWidgetPreferences": null,
   "language": "python",
   "notebookMetadata": {
    "pythonIndentUnit": 4
   },
   "notebookName": "Steam",
   "widgets": {}
  }
 },
 "nbformat": 4,
 "nbformat_minor": 0
}